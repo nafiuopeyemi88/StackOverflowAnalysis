{
 "cells": [
  {
   "cell_type": "markdown",
   "id": "21b1ce74",
   "metadata": {},
   "source": [
    "# Analyzing StackOverflow 2022 Survey data\n",
    "\n",
    "This notebook contains an analysis of survey data conducted by Stackoverflow for the year 2022. The survey is an annual developer survey, for the year 2022, the survey was conducted between May 11, 2022 to June 1, 2022.  The survey got response from developers from over 180 countries. \n"
   ]
  },
  {
   "cell_type": "code",
   "execution_count": 1,
   "id": "231c6fef",
   "metadata": {},
   "outputs": [],
   "source": [
    "#importing required libraries\n",
    "import pandas as pd #for data analysis and manipulation\n",
    "import numpy as np #library for working with arrays \n",
    "import seaborn as sns #plotting charts and other forms of visualization\n",
    "from matplotlib import pyplot as plt ##plotting charts and other forms of visualization\n",
    "from collections import Counter #counting"
   ]
  },
  {
   "cell_type": "code",
   "execution_count": 5,
   "id": "50202429",
   "metadata": {},
   "outputs": [],
   "source": [
    "#reading in the data - csv data\n",
    "survey_df = pd.read_csv('Result_2022.csv', encoding = 'ISO-8859-1')"
   ]
  },
  {
   "cell_type": "code",
   "execution_count": 6,
   "id": "4f3bdaf8",
   "metadata": {},
   "outputs": [
    {
     "data": {
      "text/plain": [
       "(73268, 79)"
      ]
     },
     "execution_count": 6,
     "metadata": {},
     "output_type": "execute_result"
    }
   ],
   "source": [
    "#checking the data shape\n",
    "survey_df.shape"
   ]
  },
  {
   "cell_type": "markdown",
   "id": "dbb43c50",
   "metadata": {},
   "source": [
    "The 2022 stackoverflow data contains 73268 rows and 79 columns."
   ]
  },
  {
   "cell_type": "code",
   "execution_count": 7,
   "id": "88154f9d",
   "metadata": {},
   "outputs": [
    {
     "data": {
      "text/plain": [
       "Index(['ResponseId', 'MainBranch', 'Employment', 'RemoteWork',\n",
       "       'CodingActivities', 'EdLevel', 'LearnCode', 'LearnCodeOnline',\n",
       "       'LearnCodeCoursesCert', 'YearsCode', 'YearsCodePro', 'DevType',\n",
       "       'OrgSize', 'PurchaseInfluence', 'BuyNewTool', 'Country', 'Currency',\n",
       "       'CompTotal', 'CompFreq', 'LanguageHaveWorkedWith',\n",
       "       'LanguageWantToWorkWith', 'DatabaseHaveWorkedWith',\n",
       "       'DatabaseWantToWorkWith', 'PlatformHaveWorkedWith',\n",
       "       'PlatformWantToWorkWith', 'WebframeHaveWorkedWith',\n",
       "       'WebframeWantToWorkWith', 'MiscTechHaveWorkedWith',\n",
       "       'MiscTechWantToWorkWith', 'ToolsTechHaveWorkedWith',\n",
       "       'ToolsTechWantToWorkWith', 'NEWCollabToolsHaveWorkedWith',\n",
       "       'NEWCollabToolsWantToWorkWith', 'OpSysProfessional use',\n",
       "       'OpSysPersonal use', 'VersionControlSystem', 'VCInteraction',\n",
       "       'VCHostingPersonal use', 'VCHostingProfessional use',\n",
       "       'OfficeStackAsyncHaveWorkedWith', 'OfficeStackAsyncWantToWorkWith',\n",
       "       'OfficeStackSyncHaveWorkedWith', 'OfficeStackSyncWantToWorkWith',\n",
       "       'Blockchain', 'NEWSOSites', 'SOVisitFreq', 'SOAccount', 'SOPartFreq',\n",
       "       'SOComm', 'Age', 'Gender', 'Trans', 'Sexuality', 'Ethnicity',\n",
       "       'Accessibility', 'MentalHealth', 'TBranch', 'ICorPM', 'WorkExp',\n",
       "       'Knowledge_1', 'Knowledge_2', 'Knowledge_3', 'Knowledge_4',\n",
       "       'Knowledge_5', 'Knowledge_6', 'Knowledge_7', 'Frequency_1',\n",
       "       'Frequency_2', 'Frequency_3', 'TimeSearching', 'TimeAnswering',\n",
       "       'Onboarding', 'ProfessionalTech', 'TrueFalse_1', 'TrueFalse_2',\n",
       "       'TrueFalse_3', 'SurveyLength', 'SurveyEase', 'ConvertedCompYearly'],\n",
       "      dtype='object')"
      ]
     },
     "execution_count": 7,
     "metadata": {},
     "output_type": "execute_result"
    }
   ],
   "source": [
    "#the columns present in the data\n",
    "survey_df.columns"
   ]
  },
  {
   "cell_type": "markdown",
   "id": "75c5321f",
   "metadata": {},
   "source": [
    "The data comes with a data schema, to explain the questions asked for each column. The columns are stored in abbreviated labels for the questions asked. However, stack overflow has attached a schema to easily explain what each column represents "
   ]
  },
  {
   "cell_type": "code",
   "execution_count": 8,
   "id": "e7c17d2a",
   "metadata": {},
   "outputs": [],
   "source": [
    "#reading in the schema \n",
    "Schema = pd.read_csv('Schema2022.csv', encoding = 'ISO-8859-1')"
   ]
  },
  {
   "cell_type": "code",
   "execution_count": 9,
   "id": "16405a8e",
   "metadata": {},
   "outputs": [
    {
     "data": {
      "text/plain": [
       "Index(['qid', 'qname', 'question', 'force_resp', 'type', 'selector'], dtype='object')"
      ]
     },
     "execution_count": 9,
     "metadata": {},
     "output_type": "execute_result"
    }
   ],
   "source": [
    "Schema.columns"
   ]
  },
  {
   "cell_type": "code",
   "execution_count": 10,
   "id": "ae1a8a38",
   "metadata": {},
   "outputs": [
    {
     "data": {
      "text/html": [
       "<div>\n",
       "<style scoped>\n",
       "    .dataframe tbody tr th:only-of-type {\n",
       "        vertical-align: middle;\n",
       "    }\n",
       "\n",
       "    .dataframe tbody tr th {\n",
       "        vertical-align: top;\n",
       "    }\n",
       "\n",
       "    .dataframe thead th {\n",
       "        text-align: right;\n",
       "    }\n",
       "</style>\n",
       "<table border=\"1\" class=\"dataframe\">\n",
       "  <thead>\n",
       "    <tr style=\"text-align: right;\">\n",
       "      <th></th>\n",
       "      <th>qid</th>\n",
       "      <th>qname</th>\n",
       "      <th>question</th>\n",
       "      <th>force_resp</th>\n",
       "      <th>type</th>\n",
       "      <th>selector</th>\n",
       "    </tr>\n",
       "  </thead>\n",
       "  <tbody>\n",
       "    <tr>\n",
       "      <th>0</th>\n",
       "      <td>QID16</td>\n",
       "      <td>S0</td>\n",
       "      <td>&lt;div&gt;&lt;span style=\"font-size:19px;\"&gt;&lt;strong&gt;Hel...</td>\n",
       "      <td>False</td>\n",
       "      <td>DB</td>\n",
       "      <td>TB</td>\n",
       "    </tr>\n",
       "    <tr>\n",
       "      <th>1</th>\n",
       "      <td>QID12</td>\n",
       "      <td>MetaInfo</td>\n",
       "      <td>Browser Meta Info</td>\n",
       "      <td>False</td>\n",
       "      <td>Meta</td>\n",
       "      <td>Browser</td>\n",
       "    </tr>\n",
       "    <tr>\n",
       "      <th>2</th>\n",
       "      <td>QID1</td>\n",
       "      <td>S1</td>\n",
       "      <td>&lt;span style=\"font-size:22px; font-family: aria...</td>\n",
       "      <td>False</td>\n",
       "      <td>DB</td>\n",
       "      <td>TB</td>\n",
       "    </tr>\n",
       "    <tr>\n",
       "      <th>3</th>\n",
       "      <td>QID2</td>\n",
       "      <td>MainBranch</td>\n",
       "      <td>Which of the following options best describes ...</td>\n",
       "      <td>True</td>\n",
       "      <td>MC</td>\n",
       "      <td>SAVR</td>\n",
       "    </tr>\n",
       "    <tr>\n",
       "      <th>4</th>\n",
       "      <td>QID296</td>\n",
       "      <td>Employment</td>\n",
       "      <td>Which of the following best describes your cur...</td>\n",
       "      <td>False</td>\n",
       "      <td>MC</td>\n",
       "      <td>MAVR</td>\n",
       "    </tr>\n",
       "    <tr>\n",
       "      <th>5</th>\n",
       "      <td>QID308</td>\n",
       "      <td>RemoteWork</td>\n",
       "      <td>Which best describes your current work situation?</td>\n",
       "      <td>False</td>\n",
       "      <td>MC</td>\n",
       "      <td>SAVR</td>\n",
       "    </tr>\n",
       "    <tr>\n",
       "      <th>6</th>\n",
       "      <td>QID297</td>\n",
       "      <td>CodingActivities</td>\n",
       "      <td>Which of the following best describes the code...</td>\n",
       "      <td>False</td>\n",
       "      <td>MC</td>\n",
       "      <td>MAVR</td>\n",
       "    </tr>\n",
       "    <tr>\n",
       "      <th>7</th>\n",
       "      <td>QID190</td>\n",
       "      <td>S2</td>\n",
       "      <td>&lt;span style=\"font-size:22px; font-family: aria...</td>\n",
       "      <td>False</td>\n",
       "      <td>DB</td>\n",
       "      <td>TB</td>\n",
       "    </tr>\n",
       "    <tr>\n",
       "      <th>8</th>\n",
       "      <td>QID25</td>\n",
       "      <td>EdLevel</td>\n",
       "      <td>Which of the following best describes the high...</td>\n",
       "      <td>False</td>\n",
       "      <td>MC</td>\n",
       "      <td>SAVR</td>\n",
       "    </tr>\n",
       "    <tr>\n",
       "      <th>9</th>\n",
       "      <td>QID276</td>\n",
       "      <td>LearnCode</td>\n",
       "      <td>How did you learn to code? Select all that apply.</td>\n",
       "      <td>False</td>\n",
       "      <td>MC</td>\n",
       "      <td>MAVR</td>\n",
       "    </tr>\n",
       "    <tr>\n",
       "      <th>10</th>\n",
       "      <td>QID281</td>\n",
       "      <td>LearnCodeOnline</td>\n",
       "      <td>What online resources do you use to learn to c...</td>\n",
       "      <td>False</td>\n",
       "      <td>MC</td>\n",
       "      <td>MAVR</td>\n",
       "    </tr>\n",
       "    <tr>\n",
       "      <th>11</th>\n",
       "      <td>QID306</td>\n",
       "      <td>LearnCodeCoursesCert</td>\n",
       "      <td>What online courses or certifications do you u...</td>\n",
       "      <td>False</td>\n",
       "      <td>MC</td>\n",
       "      <td>MAVR</td>\n",
       "    </tr>\n",
       "    <tr>\n",
       "      <th>12</th>\n",
       "      <td>QID32</td>\n",
       "      <td>YearsCode</td>\n",
       "      <td>Including any education, how many years have y...</td>\n",
       "      <td>False</td>\n",
       "      <td>MC</td>\n",
       "      <td>DL</td>\n",
       "    </tr>\n",
       "    <tr>\n",
       "      <th>13</th>\n",
       "      <td>QID34</td>\n",
       "      <td>YearsCodePro</td>\n",
       "      <td>NOT including education, how many years have y...</td>\n",
       "      <td>False</td>\n",
       "      <td>MC</td>\n",
       "      <td>DL</td>\n",
       "    </tr>\n",
       "    <tr>\n",
       "      <th>14</th>\n",
       "      <td>QID31</td>\n",
       "      <td>DevType</td>\n",
       "      <td>Which of the following describes your current ...</td>\n",
       "      <td>False</td>\n",
       "      <td>MC</td>\n",
       "      <td>MAVR</td>\n",
       "    </tr>\n",
       "    <tr>\n",
       "      <th>15</th>\n",
       "      <td>QID29</td>\n",
       "      <td>OrgSize</td>\n",
       "      <td>Approximately how many people are employed by ...</td>\n",
       "      <td>False</td>\n",
       "      <td>MC</td>\n",
       "      <td>MAVR</td>\n",
       "    </tr>\n",
       "    <tr>\n",
       "      <th>16</th>\n",
       "      <td>QID278</td>\n",
       "      <td>PurchaseInfluence</td>\n",
       "      <td>What level of influence do you, personally, ha...</td>\n",
       "      <td>False</td>\n",
       "      <td>MC</td>\n",
       "      <td>SAVR</td>\n",
       "    </tr>\n",
       "    <tr>\n",
       "      <th>17</th>\n",
       "      <td>QID279</td>\n",
       "      <td>BuyNewTool</td>\n",
       "      <td>When buying a new tool or software, how do you...</td>\n",
       "      <td>False</td>\n",
       "      <td>MC</td>\n",
       "      <td>MAVR</td>\n",
       "    </tr>\n",
       "    <tr>\n",
       "      <th>18</th>\n",
       "      <td>QID6</td>\n",
       "      <td>Country</td>\n",
       "      <td>Where do you live? &lt;span style=\"font-weight: b...</td>\n",
       "      <td>True</td>\n",
       "      <td>MC</td>\n",
       "      <td>DL</td>\n",
       "    </tr>\n",
       "    <tr>\n",
       "      <th>19</th>\n",
       "      <td>QID50</td>\n",
       "      <td>Currency</td>\n",
       "      <td>Which currency do you use day-to-day? If your ...</td>\n",
       "      <td>True</td>\n",
       "      <td>MC</td>\n",
       "      <td>DL</td>\n",
       "    </tr>\n",
       "  </tbody>\n",
       "</table>\n",
       "</div>"
      ],
      "text/plain": [
       "       qid                 qname  \\\n",
       "0    QID16                    S0   \n",
       "1    QID12              MetaInfo   \n",
       "2     QID1                    S1   \n",
       "3     QID2            MainBranch   \n",
       "4   QID296            Employment   \n",
       "5   QID308            RemoteWork   \n",
       "6   QID297      CodingActivities   \n",
       "7   QID190                    S2   \n",
       "8    QID25               EdLevel   \n",
       "9   QID276             LearnCode   \n",
       "10  QID281       LearnCodeOnline   \n",
       "11  QID306  LearnCodeCoursesCert   \n",
       "12   QID32             YearsCode   \n",
       "13   QID34          YearsCodePro   \n",
       "14   QID31               DevType   \n",
       "15   QID29               OrgSize   \n",
       "16  QID278     PurchaseInfluence   \n",
       "17  QID279            BuyNewTool   \n",
       "18    QID6               Country   \n",
       "19   QID50              Currency   \n",
       "\n",
       "                                             question force_resp  type  \\\n",
       "0   <div><span style=\"font-size:19px;\"><strong>Hel...      False    DB   \n",
       "1                                   Browser Meta Info      False  Meta   \n",
       "2   <span style=\"font-size:22px; font-family: aria...      False    DB   \n",
       "3   Which of the following options best describes ...       True    MC   \n",
       "4   Which of the following best describes your cur...      False    MC   \n",
       "5   Which best describes your current work situation?      False    MC   \n",
       "6   Which of the following best describes the code...      False    MC   \n",
       "7   <span style=\"font-size:22px; font-family: aria...      False    DB   \n",
       "8   Which of the following best describes the high...      False    MC   \n",
       "9   How did you learn to code? Select all that apply.      False    MC   \n",
       "10  What online resources do you use to learn to c...      False    MC   \n",
       "11  What online courses or certifications do you u...      False    MC   \n",
       "12  Including any education, how many years have y...      False    MC   \n",
       "13  NOT including education, how many years have y...      False    MC   \n",
       "14  Which of the following describes your current ...      False    MC   \n",
       "15  Approximately how many people are employed by ...      False    MC   \n",
       "16  What level of influence do you, personally, ha...      False    MC   \n",
       "17  When buying a new tool or software, how do you...      False    MC   \n",
       "18  Where do you live? <span style=\"font-weight: b...       True    MC   \n",
       "19  Which currency do you use day-to-day? If your ...       True    MC   \n",
       "\n",
       "   selector  \n",
       "0        TB  \n",
       "1   Browser  \n",
       "2        TB  \n",
       "3      SAVR  \n",
       "4      MAVR  \n",
       "5      SAVR  \n",
       "6      MAVR  \n",
       "7        TB  \n",
       "8      SAVR  \n",
       "9      MAVR  \n",
       "10     MAVR  \n",
       "11     MAVR  \n",
       "12       DL  \n",
       "13       DL  \n",
       "14     MAVR  \n",
       "15     MAVR  \n",
       "16     SAVR  \n",
       "17     MAVR  \n",
       "18       DL  \n",
       "19       DL  "
      ]
     },
     "execution_count": 10,
     "metadata": {},
     "output_type": "execute_result"
    }
   ],
   "source": [
    "Schema.head(20)"
   ]
  },
  {
   "cell_type": "code",
   "execution_count": 11,
   "id": "ef9d5ffa",
   "metadata": {},
   "outputs": [
    {
     "name": "stdout",
     "output_type": "stream",
     "text": [
      "<class 'pandas.core.frame.DataFrame'>\n",
      "RangeIndex: 73268 entries, 0 to 73267\n",
      "Data columns (total 79 columns):\n",
      " #   Column                          Non-Null Count  Dtype  \n",
      "---  ------                          --------------  -----  \n",
      " 0   ResponseId                      73268 non-null  int64  \n",
      " 1   MainBranch                      73268 non-null  object \n",
      " 2   Employment                      71709 non-null  object \n",
      " 3   RemoteWork                      58958 non-null  object \n",
      " 4   CodingActivities                58899 non-null  object \n",
      " 5   EdLevel                         71571 non-null  object \n",
      " 6   LearnCode                       71580 non-null  object \n",
      " 7   LearnCodeOnline                 50685 non-null  object \n",
      " 8   LearnCodeCoursesCert            29389 non-null  object \n",
      " 9   YearsCode                       71331 non-null  object \n",
      " 10  YearsCodePro                    51833 non-null  object \n",
      " 11  DevType                         61302 non-null  object \n",
      " 12  OrgSize                         51039 non-null  object \n",
      " 13  PurchaseInfluence               50969 non-null  object \n",
      " 14  BuyNewTool                      67963 non-null  object \n",
      " 15  Country                         71771 non-null  object \n",
      " 16  Currency                        51264 non-null  object \n",
      " 17  CompTotal                       38422 non-null  float64\n",
      " 18  CompFreq                        44425 non-null  object \n",
      " 19  LanguageHaveWorkedWith          70975 non-null  object \n",
      " 20  LanguageWantToWorkWith          67027 non-null  object \n",
      " 21  DatabaseHaveWorkedWith          60121 non-null  object \n",
      " 22  DatabaseWantToWorkWith          51014 non-null  object \n",
      " 23  PlatformHaveWorkedWith          49924 non-null  object \n",
      " 24  PlatformWantToWorkWith          40415 non-null  object \n",
      " 25  WebframeHaveWorkedWith          53544 non-null  object \n",
      " 26  WebframeWantToWorkWith          46122 non-null  object \n",
      " 27  MiscTechHaveWorkedWith          44992 non-null  object \n",
      " 28  MiscTechWantToWorkWith          36810 non-null  object \n",
      " 29  ToolsTechHaveWorkedWith         54171 non-null  object \n",
      " 30  ToolsTechWantToWorkWith         46566 non-null  object \n",
      " 31  NEWCollabToolsHaveWorkedWith    70347 non-null  object \n",
      " 32  NEWCollabToolsWantToWorkWith    64108 non-null  object \n",
      " 33  OpSysProfessional use           65503 non-null  object \n",
      " 34  OpSysPersonal use               70963 non-null  object \n",
      " 35  VersionControlSystem            71379 non-null  object \n",
      " 36  VCInteraction                   68156 non-null  object \n",
      " 37  VCHostingPersonal use           0 non-null      float64\n",
      " 38  VCHostingProfessional use       0 non-null      float64\n",
      " 39  OfficeStackAsyncHaveWorkedWith  46223 non-null  object \n",
      " 40  OfficeStackAsyncWantToWorkWith  32072 non-null  object \n",
      " 41  OfficeStackSyncHaveWorkedWith   62128 non-null  object \n",
      " 42  OfficeStackSyncWantToWorkWith   47688 non-null  object \n",
      " 43  Blockchain                      71071 non-null  object \n",
      " 44  NEWSOSites                      71365 non-null  object \n",
      " 45  SOVisitFreq                     70961 non-null  object \n",
      " 46  SOAccount                       71572 non-null  object \n",
      " 47  SOPartFreq                      58229 non-null  object \n",
      " 48  SOComm                          71408 non-null  object \n",
      " 49  Age                             70946 non-null  object \n",
      " 50  Gender                          70853 non-null  object \n",
      " 51  Trans                           70315 non-null  object \n",
      " 52  Sexuality                       66565 non-null  object \n",
      " 53  Ethnicity                       69474 non-null  object \n",
      " 54  Accessibility                   67244 non-null  object \n",
      " 55  MentalHealth                    66447 non-null  object \n",
      " 56  TBranch                         52670 non-null  object \n",
      " 57  ICorPM                          36283 non-null  object \n",
      " 58  WorkExp                         36769 non-null  float64\n",
      " 59  Knowledge_1                     35804 non-null  object \n",
      " 60  Knowledge_2                     34973 non-null  object \n",
      " 61  Knowledge_3                     35133 non-null  object \n",
      " 62  Knowledge_4                     35097 non-null  object \n",
      " 63  Knowledge_5                     35014 non-null  object \n",
      " 64  Knowledge_6                     34991 non-null  object \n",
      " 65  Knowledge_7                     34977 non-null  object \n",
      " 66  Frequency_1                     35371 non-null  object \n",
      " 67  Frequency_2                     35344 non-null  object \n",
      " 68  Frequency_3                     34515 non-null  object \n",
      " 69  TimeSearching                   36198 non-null  object \n",
      " 70  TimeAnswering                   36022 non-null  object \n",
      " 71  Onboarding                      35679 non-null  object \n",
      " 72  ProfessionalTech                34906 non-null  object \n",
      " 73  TrueFalse_1                     35819 non-null  object \n",
      " 74  TrueFalse_2                     35715 non-null  object \n",
      " 75  TrueFalse_3                     35749 non-null  object \n",
      " 76  SurveyLength                    70444 non-null  object \n",
      " 77  SurveyEase                      70508 non-null  object \n",
      " 78  ConvertedCompYearly             38071 non-null  float64\n",
      "dtypes: float64(5), int64(1), object(73)\n",
      "memory usage: 44.2+ MB\n"
     ]
    }
   ],
   "source": [
    "survey_df.info()"
   ]
  },
  {
   "cell_type": "markdown",
   "id": "727d13f7",
   "metadata": {},
   "source": [
    "The data contains *73268 rows and 79 columns*, each survey question requires a specific answer type, hence creating multiple data types.\n"
   ]
  },
  {
   "cell_type": "code",
   "execution_count": 12,
   "id": "5b379ddf",
   "metadata": {},
   "outputs": [
    {
     "data": {
      "text/html": [
       "<div>\n",
       "<style scoped>\n",
       "    .dataframe tbody tr th:only-of-type {\n",
       "        vertical-align: middle;\n",
       "    }\n",
       "\n",
       "    .dataframe tbody tr th {\n",
       "        vertical-align: top;\n",
       "    }\n",
       "\n",
       "    .dataframe thead th {\n",
       "        text-align: right;\n",
       "    }\n",
       "</style>\n",
       "<table border=\"1\" class=\"dataframe\">\n",
       "  <thead>\n",
       "    <tr style=\"text-align: right;\">\n",
       "      <th></th>\n",
       "      <th>ResponseId</th>\n",
       "      <th>CompTotal</th>\n",
       "      <th>VCHostingPersonal use</th>\n",
       "      <th>VCHostingProfessional use</th>\n",
       "      <th>WorkExp</th>\n",
       "      <th>ConvertedCompYearly</th>\n",
       "    </tr>\n",
       "  </thead>\n",
       "  <tbody>\n",
       "    <tr>\n",
       "      <th>count</th>\n",
       "      <td>73268.000000000</td>\n",
       "      <td>38422.000000000</td>\n",
       "      <td>0.000000000</td>\n",
       "      <td>0.000000000</td>\n",
       "      <td>36769.000000000</td>\n",
       "      <td>38071.000000000</td>\n",
       "    </tr>\n",
       "    <tr>\n",
       "      <th>mean</th>\n",
       "      <td>36634.500000000</td>\n",
       "      <td>23424340221747959297504942608856691548764873498...</td>\n",
       "      <td>NaN</td>\n",
       "      <td>NaN</td>\n",
       "      <td>10.242378090</td>\n",
       "      <td>170761.277849282</td>\n",
       "    </tr>\n",
       "    <tr>\n",
       "      <th>std</th>\n",
       "      <td>21150.794098568</td>\n",
       "      <td>45914781878161738872227058510324868731367416738...</td>\n",
       "      <td>NaN</td>\n",
       "      <td>NaN</td>\n",
       "      <td>8.706849849</td>\n",
       "      <td>781413.236402613</td>\n",
       "    </tr>\n",
       "    <tr>\n",
       "      <th>min</th>\n",
       "      <td>1.000000000</td>\n",
       "      <td>0.000000000</td>\n",
       "      <td>NaN</td>\n",
       "      <td>NaN</td>\n",
       "      <td>0.000000000</td>\n",
       "      <td>1.000000000</td>\n",
       "    </tr>\n",
       "    <tr>\n",
       "      <th>25%</th>\n",
       "      <td>18317.750000000</td>\n",
       "      <td>30000.000000000</td>\n",
       "      <td>NaN</td>\n",
       "      <td>NaN</td>\n",
       "      <td>4.000000000</td>\n",
       "      <td>35832.000000000</td>\n",
       "    </tr>\n",
       "    <tr>\n",
       "      <th>50%</th>\n",
       "      <td>36634.500000000</td>\n",
       "      <td>77500.000000000</td>\n",
       "      <td>NaN</td>\n",
       "      <td>NaN</td>\n",
       "      <td>8.000000000</td>\n",
       "      <td>67845.000000000</td>\n",
       "    </tr>\n",
       "    <tr>\n",
       "      <th>75%</th>\n",
       "      <td>54951.250000000</td>\n",
       "      <td>154000.000000000</td>\n",
       "      <td>NaN</td>\n",
       "      <td>NaN</td>\n",
       "      <td>15.000000000</td>\n",
       "      <td>120000.000000000</td>\n",
       "    </tr>\n",
       "    <tr>\n",
       "      <th>max</th>\n",
       "      <td>73268.000000000</td>\n",
       "      <td>90000000000000006093448009035034248110033526180...</td>\n",
       "      <td>NaN</td>\n",
       "      <td>NaN</td>\n",
       "      <td>50.000000000</td>\n",
       "      <td>50000000.000000000</td>\n",
       "    </tr>\n",
       "  </tbody>\n",
       "</table>\n",
       "</div>"
      ],
      "text/plain": [
       "           ResponseId                                          CompTotal  \\\n",
       "count 73268.000000000                                    38422.000000000   \n",
       "mean  36634.500000000 23424340221747959297504942608856691548764873498...   \n",
       "std   21150.794098568 45914781878161738872227058510324868731367416738...   \n",
       "min       1.000000000                                        0.000000000   \n",
       "25%   18317.750000000                                    30000.000000000   \n",
       "50%   36634.500000000                                    77500.000000000   \n",
       "75%   54951.250000000                                   154000.000000000   \n",
       "max   73268.000000000 90000000000000006093448009035034248110033526180...   \n",
       "\n",
       "       VCHostingPersonal use  VCHostingProfessional use         WorkExp  \\\n",
       "count            0.000000000                0.000000000 36769.000000000   \n",
       "mean                     NaN                        NaN    10.242378090   \n",
       "std                      NaN                        NaN     8.706849849   \n",
       "min                      NaN                        NaN     0.000000000   \n",
       "25%                      NaN                        NaN     4.000000000   \n",
       "50%                      NaN                        NaN     8.000000000   \n",
       "75%                      NaN                        NaN    15.000000000   \n",
       "max                      NaN                        NaN    50.000000000   \n",
       "\n",
       "       ConvertedCompYearly  \n",
       "count      38071.000000000  \n",
       "mean      170761.277849282  \n",
       "std       781413.236402613  \n",
       "min            1.000000000  \n",
       "25%        35832.000000000  \n",
       "50%        67845.000000000  \n",
       "75%       120000.000000000  \n",
       "max     50000000.000000000  "
      ]
     },
     "execution_count": 12,
     "metadata": {},
     "output_type": "execute_result"
    }
   ],
   "source": [
    "survey_df.describe()"
   ]
  },
  {
   "cell_type": "markdown",
   "id": "eef5d79d",
   "metadata": {},
   "source": [
    "Most of the data cleaning have been done by Stack overflow, although some columns still have null values. This will be handled with care, so as to ensure that rows are kept in place for insightful analysis."
   ]
  },
  {
   "cell_type": "markdown",
   "id": "992da04c",
   "metadata": {},
   "source": [
    "## Exporatory Data Analysis\n",
    "\n",
    "In this project, the analysis will be carried out from a question based approach, columns present in the data will be used to provide answers to some questions. \n",
    "**Section 1**\n",
    "Demography of the respondents\n",
    "Genders\n",
    "Countries\n",
    "Ethnicity\n",
    "\n",
    "**Section 2**\n",
    "RemoteWork\n",
    "\n",
    "**section 3**\n",
    "What are the popular programming languages?\n",
    "What are the popular databases?\n",
    "What are the languages developers intend to learn in the future?"
   ]
  },
  {
   "cell_type": "code",
   "execution_count": null,
   "id": "2f0fa5de",
   "metadata": {},
   "outputs": [],
   "source": []
  },
  {
   "cell_type": "markdown",
   "id": "32c79bfb",
   "metadata": {},
   "source": [
    "*To answer these questions, columns would be subsetted for each question"
   ]
  },
  {
   "cell_type": "code",
   "execution_count": 13,
   "id": "d8c1c069",
   "metadata": {},
   "outputs": [
    {
     "data": {
      "text/plain": [
       "<AxesSubplot:title={'center':'Top Countries'}, xlabel='Country'>"
      ]
     },
     "execution_count": 13,
     "metadata": {},
     "output_type": "execute_result"
    },
    {
     "data": {
      "image/png": "[encoded data removed]",
      "text/plain": [
       "<Figure size 864x432 with 1 Axes>"
      ]
     },
     "metadata": {
      "needs_background": "light"
     },
     "output_type": "display_data"
    }
   ],
   "source": [
    "#create a dataframe to answer questions from the first section\n",
    "#what are the top 10 countries with the most respondents to this survey\n",
    "q1 = survey_df[['Country','Age', 'Gender','Ethnicity']]\n",
    "q1.dropna(axis = 0)\n",
    "Top_countries = q1.Country.value_counts().head(10)\n",
    "plt.figure(figsize = (12,6))\n",
    "plt.xticks(rotation = 75)\n",
    "plt.title('Top Countries', size = 13)\n",
    "sns.barplot(x= Top_countries, y= Top_countries.index)\n"
   ]
  },
  {
   "cell_type": "markdown",
   "id": "fda001fe",
   "metadata": {},
   "source": [
    "The United states tops this list, followed by India. "
   ]
  },
  {
   "cell_type": "code",
   "execution_count": 14,
   "id": "6a298e8e",
   "metadata": {},
   "outputs": [
    {
     "data": {
      "text/plain": [
       "25-34 years old       28112\n",
       "18-24 years old       16646\n",
       "35-44 years old       13988\n",
       "45-54 years old        5281\n",
       "Under 18 years old     3866\n",
       "55-64 years old        1978\n",
       "65 years or older       554\n",
       "Prefer not to say       521\n",
       "Name: Age, dtype: int64"
      ]
     },
     "execution_count": 14,
     "metadata": {},
     "output_type": "execute_result"
    }
   ],
   "source": [
    "#checking the age column to know the age category with the most respondents\n",
    "q1.Age.value_counts()"
   ]
  },
  {
   "cell_type": "code",
   "execution_count": 15,
   "id": "711721ab",
   "metadata": {},
   "outputs": [
    {
     "data": {
      "text/plain": [
       "<AxesSubplot:title={'center':'Age Category'}, xlabel='Age'>"
      ]
     },
     "execution_count": 15,
     "metadata": {},
     "output_type": "execute_result"
    },
    {
     "data": {
      "image/png": "[encoded data removed]",
      "text/plain": [
       "<Figure size 864x432 with 1 Axes>"
      ]
     },
     "metadata": {
      "needs_background": "light"
     },
     "output_type": "display_data"
    }
   ],
   "source": [
    "#What age category is mostly represented in this survey\n",
    "Age_category = q1.Age.value_counts().head(10)\n",
    "plt.figure(figsize = (12,6))\n",
    "plt.xticks(rotation = 75)\n",
    "plt.title('Age Category', size = 13)\n",
    "sns.barplot(x= Age_category, y= Age_category.index)"
   ]
  },
  {
   "cell_type": "markdown",
   "id": "a6203bda",
   "metadata": {},
   "source": [
    "Age categories *(25-34 and 18-24)* are the most represented age categories. A large number of youths are the most represented in this survey and rightly so. Elderly men from age 50 and above are sparsely represented in the survey."
   ]
  },
  {
   "cell_type": "code",
   "execution_count": 16,
   "id": "3d04d82c",
   "metadata": {},
   "outputs": [
    {
     "data": {
      "text/plain": [
       "<AxesSubplot:title={'center':'Gender Category'}, xlabel='Gender'>"
      ]
     },
     "execution_count": 16,
     "metadata": {},
     "output_type": "execute_result"
    },
    {
     "data": {
      "image/png": "[encoded data removed]",
      "text/plain": [
       "<Figure size 864x432 with 1 Axes>"
      ]
     },
     "metadata": {
      "needs_background": "light"
     },
     "output_type": "display_data"
    }
   ],
   "source": [
    "#what gender type/category is mostly represented in this survey\n",
    "Gender_category = q1.Gender.value_counts().head(10)\n",
    "plt.figure(figsize = (12,6))\n",
    "plt.xticks(rotation = 75)\n",
    "plt.title('Gender Category', size = 13)\n",
    "sns.barplot(x= Gender_category, y= Gender_category.index)"
   ]
  },
  {
   "cell_type": "markdown",
   "id": "e5253a4c",
   "metadata": {},
   "source": [
    "Men are the most represented Gender group in this survey."
   ]
  },
  {
   "cell_type": "code",
   "execution_count": 17,
   "id": "682bb2c4",
   "metadata": {},
   "outputs": [
    {
     "data": {
      "text/plain": [
       "European                                             14612\n",
       "White                                                13633\n",
       "White;European                                        8694\n",
       "Indian                                                5240\n",
       "Asian                                                 3346\n",
       "                                                     ...  \n",
       "Indian;European;African;Multiracial                      1\n",
       "Asian;East Asian;Southeast Asian;Pacific Islander        1\n",
       "Middle Eastern;Asian;Multiracial;Biracial                1\n",
       "Or, in your own words:;European;Asian                    1\n",
       "White;European;North African;Hispanic or Latino/a        1\n",
       "Name: Ethnicity, Length: 1055, dtype: int64"
      ]
     },
     "execution_count": 17,
     "metadata": {},
     "output_type": "execute_result"
    }
   ],
   "source": [
    "\n",
    "q1.Ethnicity.value_counts()"
   ]
  },
  {
   "cell_type": "code",
   "execution_count": 18,
   "id": "df5ec0f0",
   "metadata": {},
   "outputs": [
    {
     "data": {
      "text/plain": [
       "<AxesSubplot:title={'center':'Different Ethnicity'}, xlabel='Ethnicity'>"
      ]
     },
     "execution_count": 18,
     "metadata": {},
     "output_type": "execute_result"
    },
    {
     "data": {
      "image/png": "[encoded data removed]",
      "text/plain": [
       "<Figure size 864x432 with 1 Axes>"
      ]
     },
     "metadata": {
      "needs_background": "light"
     },
     "output_type": "display_data"
    }
   ],
   "source": [
    "#ethnic groups \n",
    "Ethnic_category = q1.Ethnicity.value_counts().head(10)\n",
    "plt.figure(figsize = (12,6))\n",
    "plt.xticks(rotation = 75)\n",
    "plt.title('Different Ethnicity', size = 13)\n",
    "sns.barplot(x= Ethnic_category, y= Ethnic_category.index)"
   ]
  },
  {
   "cell_type": "markdown",
   "id": "7f5d76fe",
   "metadata": {},
   "source": [
    "*Europeans are the most represented ethnic group in this survey, followed closed by people who identify as white. "
   ]
  },
  {
   "cell_type": "markdown",
   "id": "d0e863a5",
   "metadata": {},
   "source": [
    "**Section 2**\n",
    "Are developers working remotely, full time in person or combination of both?"
   ]
  },
  {
   "cell_type": "code",
   "execution_count": 19,
   "id": "cb564703",
   "metadata": {},
   "outputs": [
    {
     "data": {
      "text/plain": [
       "Fully remote                            25341\n",
       "Hybrid (some remote, some in-person)    25021\n",
       "Full in-person                           8596\n",
       "Name: RemoteWork, dtype: int64"
      ]
     },
     "execution_count": 19,
     "metadata": {},
     "output_type": "execute_result"
    }
   ],
   "source": [
    "survey_df.RemoteWork.value_counts()"
   ]
  },
  {
   "cell_type": "markdown",
   "id": "1bfb8a9c",
   "metadata": {},
   "source": [
    "We want to explore the disposition of some of the respondents to remote work."
   ]
  },
  {
   "cell_type": "code",
   "execution_count": 20,
   "id": "82d5870f",
   "metadata": {},
   "outputs": [
    {
     "data": {
      "text/plain": [
       "<AxesSubplot:title={'center':'Remote work'}, xlabel='RemoteWork'>"
      ]
     },
     "execution_count": 20,
     "metadata": {},
     "output_type": "execute_result"
    },
    {
     "data": {
      "image/png": "[encoded data removed]",
      "text/plain": [
       "<Figure size 864x432 with 1 Axes>"
      ]
     },
     "metadata": {
      "needs_background": "light"
     },
     "output_type": "display_data"
    }
   ],
   "source": [
    "#let's first see the disposition of the general respodents to remote work\n",
    "q2 = survey_df[['RemoteWork', 'Country']]\n",
    "q2.dropna(axis = 0)\n",
    "Remote = q2.RemoteWork.value_counts()\n",
    "plt.figure(figsize = (12, 6))\n",
    "plt.title('Remote work', size = 13)\n",
    "sns.barplot(x= Remote, y= Remote.index)\n"
   ]
  },
  {
   "cell_type": "markdown",
   "id": "6274d0d3",
   "metadata": {},
   "source": [
    "The barplot shows that majority of developers work remotely or in an hybrid role. Very few developers work 'full in-person'"
   ]
  },
  {
   "cell_type": "markdown",
   "id": "19827906",
   "metadata": {},
   "source": [
    "How many developers work remotely, in-person or hybrid in what country?"
   ]
  },
  {
   "cell_type": "code",
   "execution_count": 22,
   "id": "ed9577f2",
   "metadata": {},
   "outputs": [
    {
     "name": "stderr",
     "output_type": "stream",
     "text": [
      "C:\\Users\\Jeff\\AppData\\Local\\Temp\\ipykernel_2844\\747499429.py:2: SettingWithCopyWarning: \n",
      "A value is trying to be set on a copy of a slice from a DataFrame.\n",
      "Try using .loc[row_indexer,col_indexer] = value instead\n",
      "\n",
      "See the caveats in the documentation: https://pandas.pydata.org/pandas-docs/stable/user_guide/indexing.html#returning-a-view-versus-a-copy\n",
      "  q2['FullyRemote'] = (q2.RemoteWork == 'Fully remote')\n",
      "C:\\Users\\Jeff\\AppData\\Local\\Temp\\ipykernel_2844\\747499429.py:3: SettingWithCopyWarning: \n",
      "A value is trying to be set on a copy of a slice from a DataFrame.\n",
      "Try using .loc[row_indexer,col_indexer] = value instead\n",
      "\n",
      "See the caveats in the documentation: https://pandas.pydata.org/pandas-docs/stable/user_guide/indexing.html#returning-a-view-versus-a-copy\n",
      "  q2['Hybrid'] = (q2.RemoteWork == \"Hybrid (some remote, some in-person)\")\n",
      "C:\\Users\\Jeff\\AppData\\Local\\Temp\\ipykernel_2844\\747499429.py:4: SettingWithCopyWarning: \n",
      "A value is trying to be set on a copy of a slice from a DataFrame.\n",
      "Try using .loc[row_indexer,col_indexer] = value instead\n",
      "\n",
      "See the caveats in the documentation: https://pandas.pydata.org/pandas-docs/stable/user_guide/indexing.html#returning-a-view-versus-a-copy\n",
      "  q2['Full_in_person'] = (q2.RemoteWork == \"Full in-person\")\n"
     ]
    }
   ],
   "source": [
    "#let's add some columns to check how different respondent from different countries, work.\n",
    "q2['FullyRemote'] = (q2.RemoteWork == 'Fully remote')\n",
    "q2['Hybrid'] = (q2.RemoteWork == \"Hybrid (some remote, some in-person)\")\n",
    "q2['Full_in_person'] = (q2.RemoteWork == \"Full in-person\")"
   ]
  },
  {
   "cell_type": "code",
   "execution_count": 23,
   "id": "07c17dfb",
   "metadata": {},
   "outputs": [
    {
     "data": {
      "text/plain": [
       "False    64672\n",
       "True      8596\n",
       "Name: Full_in_person, dtype: int64"
      ]
     },
     "execution_count": 23,
     "metadata": {},
     "output_type": "execute_result"
    }
   ],
   "source": [
    "q2.Full_in_person.value_counts()"
   ]
  },
  {
   "cell_type": "code",
   "execution_count": 24,
   "id": "0d44d86b",
   "metadata": {},
   "outputs": [
    {
     "name": "stderr",
     "output_type": "stream",
     "text": [
      "C:\\Users\\Jeff\\AppData\\Local\\Temp\\ipykernel_2844\\1700849318.py:1: SettingWithCopyWarning: \n",
      "A value is trying to be set on a copy of a slice from a DataFrame.\n",
      "Try using .loc[row_indexer,col_indexer] = value instead\n",
      "\n",
      "See the caveats in the documentation: https://pandas.pydata.org/pandas-docs/stable/user_guide/indexing.html#returning-a-view-versus-a-copy\n",
      "  q2['FullyRemote'] = q2['FullyRemote'].astype(int)\n",
      "C:\\Users\\Jeff\\AppData\\Local\\Temp\\ipykernel_2844\\1700849318.py:2: SettingWithCopyWarning: \n",
      "A value is trying to be set on a copy of a slice from a DataFrame.\n",
      "Try using .loc[row_indexer,col_indexer] = value instead\n",
      "\n",
      "See the caveats in the documentation: https://pandas.pydata.org/pandas-docs/stable/user_guide/indexing.html#returning-a-view-versus-a-copy\n",
      "  q2['Hybrid'] = q2['Hybrid'].astype(int)\n",
      "C:\\Users\\Jeff\\AppData\\Local\\Temp\\ipykernel_2844\\1700849318.py:3: SettingWithCopyWarning: \n",
      "A value is trying to be set on a copy of a slice from a DataFrame.\n",
      "Try using .loc[row_indexer,col_indexer] = value instead\n",
      "\n",
      "See the caveats in the documentation: https://pandas.pydata.org/pandas-docs/stable/user_guide/indexing.html#returning-a-view-versus-a-copy\n",
      "  q2['Full_in_person'] = q2['Full_in_person'].astype(int)\n"
     ]
    }
   ],
   "source": [
    "q2['FullyRemote'] = q2['FullyRemote'].astype(int)\n",
    "q2['Hybrid'] = q2['Hybrid'].astype(int)\n",
    "q2['Full_in_person'] = q2['Full_in_person'].astype(int)"
   ]
  },
  {
   "cell_type": "code",
   "execution_count": null,
   "id": "ec00e876",
   "metadata": {},
   "outputs": [],
   "source": []
  },
  {
   "cell_type": "code",
   "execution_count": null,
   "id": "47a53155",
   "metadata": {},
   "outputs": [],
   "source": []
  },
  {
   "cell_type": "code",
   "execution_count": 25,
   "id": "45db404d",
   "metadata": {},
   "outputs": [
    {
     "data": {
      "text/plain": [
       "<AxesSubplot:title={'center':'Hybrid Role'}, xlabel='Hybrid', ylabel='Country'>"
      ]
     },
     "execution_count": 25,
     "metadata": {},
     "output_type": "execute_result"
    },
    {
     "data": {
      "image/png": "[encoded data removed]",
      "text/plain": [
       "<Figure size 864x432 with 1 Axes>"
      ]
     },
     "metadata": {
      "needs_background": "light"
     },
     "output_type": "display_data"
    }
   ],
   "source": [
    "#developers in hybrid roles per top_countries\n",
    "Hybrid_category = q2.groupby('Country')['Hybrid'].sum().sort_values(ascending = False).head(10)\n",
    "plt.figure(figsize = (12, 6))\n",
    "plt.title('Hybrid Role', size = 13)\n",
    "sns.barplot(x= Hybrid_category, y= Hybrid_category.index)\n"
   ]
  },
  {
   "cell_type": "markdown",
   "id": "867e86f3",
   "metadata": {},
   "source": [
    "The chart is showing that lots of developers in the States, Germany and India work in hybrid positions. "
   ]
  },
  {
   "cell_type": "code",
   "execution_count": 26,
   "id": "e16c560e",
   "metadata": {},
   "outputs": [
    {
     "data": {
      "text/plain": [
       "<AxesSubplot:title={'center':'Fully Remote role'}, xlabel='FullyRemote', ylabel='Country'>"
      ]
     },
     "execution_count": 26,
     "metadata": {},
     "output_type": "execute_result"
    },
    {
     "data": {
      "image/png": "[encoded data removed]",
      "text/plain": [
       "<Figure size 864x432 with 1 Axes>"
      ]
     },
     "metadata": {
      "needs_background": "light"
     },
     "output_type": "display_data"
    }
   ],
   "source": [
    "#fully remote roles\n",
    "Remote_category = q2.groupby('Country')['FullyRemote'].sum().sort_values(ascending = False).head(10)\n",
    "plt.figure(figsize = (12, 6))\n",
    "plt.title('Fully Remote role', size = 13)\n",
    "sns.barplot(x= Remote_category, y= Remote_category.index)\n"
   ]
  },
  {
   "cell_type": "markdown",
   "id": "e4b95f30",
   "metadata": {},
   "source": [
    "Most developers in *fully remote roles* are in the United States, other countries come at a very distant positions. "
   ]
  },
  {
   "cell_type": "code",
   "execution_count": 27,
   "id": "c4187b0d",
   "metadata": {},
   "outputs": [
    {
     "data": {
      "text/plain": [
       "<AxesSubplot:title={'center':'Full in person role'}, xlabel='Full_in_person', ylabel='Country'>"
      ]
     },
     "execution_count": 27,
     "metadata": {},
     "output_type": "execute_result"
    },
    {
     "data": {
      "image/png": "[encoded data removed]",
      "text/plain": [
       "<Figure size 864x432 with 1 Axes>"
      ]
     },
     "metadata": {
      "needs_background": "light"
     },
     "output_type": "display_data"
    }
   ],
   "source": [
    "#in person roles\n",
    "Full_in_person_category = q2.groupby('Country')['Full_in_person'].sum().sort_values(ascending = False).head(10)\n",
    "plt.figure(figsize = (12, 6))\n",
    "plt.title('Full in person role', size = 13)\n",
    "sns.barplot(x= Full_in_person_category, y= Full_in_person_category.index)\n"
   ]
  },
  {
   "cell_type": "markdown",
   "id": "c0958164",
   "metadata": {},
   "source": [
    "# Section 3: \n",
    "\n",
    "What are the popular programming languages and databases developers have worked with?\n",
    "What are the languages and databases developers intend to work with in the future?\n"
   ]
  },
  {
   "cell_type": "code",
   "execution_count": 28,
   "id": "d33dc0e9",
   "metadata": {},
   "outputs": [],
   "source": [
    "q3 = survey_df[['LanguageHaveWorkedWith',\n",
    "       'LanguageWantToWorkWith', 'DatabaseHaveWorkedWith',\n",
    "       'DatabaseWantToWorkWith']]\n",
    "\n"
   ]
  },
  {
   "cell_type": "code",
   "execution_count": 29,
   "id": "0aac3af2",
   "metadata": {},
   "outputs": [
    {
     "data": {
      "text/plain": [
       "HTML/CSS;JavaScript;TypeScript                                                              1250\n",
       "Python                                                                                       962\n",
       "HTML/CSS;JavaScript                                                                          914\n",
       "HTML/CSS;JavaScript;PHP;SQL                                                                  745\n",
       "C#;HTML/CSS;JavaScript;SQL;TypeScript                                                        570\n",
       "                                                                                            ... \n",
       "C#;Java;JavaScript;PHP;PowerShell;SQL;TypeScript                                               1\n",
       "C++;HTML/CSS;JavaScript;Python;Solidity;SQL                                                    1\n",
       "Dart;Haskell;HTML/CSS;Java;R;SQL;TypeScript                                                    1\n",
       "Bash/Shell;C;C#;Go;HTML/CSS;Java;JavaScript;Lua;Perl;PHP;Python;Ruby;Rust;SQL;TypeScript       1\n",
       "C#;JavaScript;Lua;PowerShell;SQL;TypeScript                                                    1\n",
       "Name: LanguageHaveWorkedWith, Length: 25068, dtype: int64"
      ]
     },
     "execution_count": 29,
     "metadata": {},
     "output_type": "execute_result"
    }
   ],
   "source": [
    "q3.LanguageHaveWorkedWith.value_counts()"
   ]
  },
  {
   "cell_type": "code",
   "execution_count": 30,
   "id": "5ac0a42c",
   "metadata": {},
   "outputs": [
    {
     "name": "stderr",
     "output_type": "stream",
     "text": [
      "C:\\Users\\Jeff\\AppData\\Local\\Temp\\ipykernel_2844\\4178513561.py:10: SettingWithCopyWarning: \n",
      "A value is trying to be set on a copy of a slice from a DataFrame.\n",
      "Try using .loc[row_indexer,col_indexer] = value instead\n",
      "\n",
      "See the caveats in the documentation: https://pandas.pydata.org/pandas-docs/stable/user_guide/indexing.html#returning-a-view-versus-a-copy\n",
      "  q3['LanguageHaveWorkedWith'] = q3['LanguageHaveWorkedWith'].fillna('missing')\n"
     ]
    }
   ],
   "source": [
    "def split_col(df, column):\n",
    "    ''' This function split values in a column\n",
    "    '''\n",
    "    \n",
    "    dfcopy = df\n",
    "    column_series = dfcopy[column].apply(lambda x: x.split(';'))\n",
    "    \n",
    "    return column_series\n",
    "\n",
    "q3['LanguageHaveWorkedWith'] = q3['LanguageHaveWorkedWith'].fillna('missing')\n",
    "program_lang_list = split_col(q3, 'LanguageHaveWorkedWith')"
   ]
  },
  {
   "cell_type": "code",
   "execution_count": 31,
   "id": "2234d94a",
   "metadata": {},
   "outputs": [
    {
     "data": {
      "text/plain": [
       "0                                                [missing]\n",
       "1                                 [JavaScript, TypeScript]\n",
       "2                  [C#, C++, HTML/CSS, JavaScript, Python]\n",
       "3                        [C#, JavaScript, SQL, TypeScript]\n",
       "4        [C#, HTML/CSS, JavaScript, SQL, Swift, TypeScr...\n",
       "                               ...                        \n",
       "73263    [Bash/Shell, Dart, JavaScript, PHP, Python, SQ...\n",
       "73264      [Bash/Shell, HTML/CSS, JavaScript, Python, SQL]\n",
       "73265             [HTML/CSS, JavaScript, PHP, Python, SQL]\n",
       "73266                                    [C#, Delphi, VBA]\n",
       "73267    [C#, JavaScript, Lua, PowerShell, SQL, TypeScr...\n",
       "Name: LanguageHaveWorkedWith, Length: 73268, dtype: object"
      ]
     },
     "execution_count": 31,
     "metadata": {},
     "output_type": "execute_result"
    }
   ],
   "source": [
    "program_lang_list"
   ]
  },
  {
   "cell_type": "code",
   "execution_count": 32,
   "id": "fce2235c",
   "metadata": {},
   "outputs": [],
   "source": [
    "def disarray(array_list):\n",
    "    ''' Flat a nested list,\n",
    "        returns a flat list.\n",
    "    '''\n",
    "    \n",
    "    objects = []\n",
    "    \n",
    "    for row in array_list:\n",
    "        for obj in row:\n",
    "            objects.append(obj.strip())\n",
    "            \n",
    "    return objects\n",
    "\n",
    "flattened_proglist = disarray(program_lang_list)"
   ]
  },
  {
   "cell_type": "code",
   "execution_count": 33,
   "id": "b4301710",
   "metadata": {},
   "outputs": [
    {
     "data": {
      "text/plain": [
       "[{'Programming Language': 'missing', 'Count': 2293},\n",
       " {'Programming Language': 'JavaScript', 'Count': 46443},\n",
       " {'Programming Language': 'TypeScript', 'Count': 24752},\n",
       " {'Programming Language': 'C#', 'Count': 19883},\n",
       " {'Programming Language': 'C++', 'Count': 16024},\n",
       " {'Programming Language': 'HTML/CSS', 'Count': 39142},\n",
       " {'Programming Language': 'Python', 'Count': 34155},\n",
       " {'Programming Language': 'SQL', 'Count': 35127},\n",
       " {'Programming Language': 'Swift', 'Count': 3489},\n",
       " {'Programming Language': 'Lua', 'Count': 2867},\n",
       " {'Programming Language': 'PHP', 'Count': 14827},\n",
       " {'Programming Language': 'C', 'Count': 13692},\n",
       " {'Programming Language': 'Java', 'Count': 23644},\n",
       " {'Programming Language': 'Delphi', 'Count': 2311},\n",
       " {'Programming Language': 'Bash/Shell', 'Count': 20656},\n",
       " {'Programming Language': 'PowerShell', 'Count': 8575},\n",
       " {'Programming Language': 'Rust', 'Count': 6625},\n",
       " {'Programming Language': 'Elixir', 'Count': 1528},\n",
       " {'Programming Language': 'Erlang', 'Count': 641},\n",
       " {'Programming Language': 'Ruby', 'Count': 4299},\n",
       " {'Programming Language': 'R', 'Count': 3308},\n",
       " {'Programming Language': 'Scala', 'Count': 1837},\n",
       " {'Programming Language': 'VBA', 'Count': 3185},\n",
       " {'Programming Language': 'Dart', 'Count': 4648},\n",
       " {'Programming Language': 'Go', 'Count': 7922},\n",
       " {'Programming Language': 'Kotlin', 'Count': 6507},\n",
       " {'Programming Language': 'Groovy', 'Count': 2357},\n",
       " {'Programming Language': 'MATLAB', 'Count': 2913},\n",
       " {'Programming Language': 'Perl', 'Count': 1644},\n",
       " {'Programming Language': 'Haskell', 'Count': 1577},\n",
       " {'Programming Language': 'Julia', 'Count': 1084},\n",
       " {'Programming Language': 'LISP', 'Count': 932},\n",
       " {'Programming Language': 'Assembly', 'Count': 3887},\n",
       " {'Programming Language': 'F#', 'Count': 730},\n",
       " {'Programming Language': 'Clojure', 'Count': 1070},\n",
       " {'Programming Language': 'APL', 'Count': 504},\n",
       " {'Programming Language': 'Crystal', 'Count': 340},\n",
       " {'Programming Language': 'Fortran', 'Count': 646},\n",
       " {'Programming Language': 'Objective-C', 'Count': 1698},\n",
       " {'Programming Language': 'SAS', 'Count': 435},\n",
       " {'Programming Language': 'OCaml', 'Count': 422},\n",
       " {'Programming Language': 'Solidity', 'Count': 1031},\n",
       " {'Programming Language': 'COBOL', 'Count': 464}]"
      ]
     },
     "execution_count": 33,
     "metadata": {},
     "output_type": "execute_result"
    }
   ],
   "source": [
    "def group_list(data_list):\n",
    "    ''' Group by count to a list,\n",
    "        returns a result dict.\n",
    "    '''\n",
    "    \n",
    "    grouped_list = dict(Counter(data_list))\n",
    "    grouped_dict = [{'Programming Language':key, 'Count': value} for key, value in grouped_list.items()]\n",
    "    \n",
    "    return grouped_dict\n",
    "\n",
    "    \n",
    "# Groping a list and creating a dict.\n",
    "dict_worked_languages = group_list(flattened_proglist)\n",
    "dict_worked_languages"
   ]
  },
  {
   "cell_type": "code",
   "execution_count": 34,
   "id": "bcb4c99c",
   "metadata": {},
   "outputs": [],
   "source": [
    "#create dataframe from these lists\n",
    "def createdf(data_dicts):\n",
    "    ''' Converts a dictionary to dataframe\n",
    "    '''\n",
    "    newdf = pd.DataFrame.from_dict(data_dicts)\n",
    "\n",
    "\n",
    "    \n",
    "    return newdf\n",
    "\n",
    "langworkedwith_df = createdf(dict_worked_languages)"
   ]
  },
  {
   "cell_type": "code",
   "execution_count": 35,
   "id": "69343fdb",
   "metadata": {},
   "outputs": [
    {
     "data": {
      "text/html": [
       "<div>\n",
       "<style scoped>\n",
       "    .dataframe tbody tr th:only-of-type {\n",
       "        vertical-align: middle;\n",
       "    }\n",
       "\n",
       "    .dataframe tbody tr th {\n",
       "        vertical-align: top;\n",
       "    }\n",
       "\n",
       "    .dataframe thead th {\n",
       "        text-align: right;\n",
       "    }\n",
       "</style>\n",
       "<table border=\"1\" class=\"dataframe\">\n",
       "  <thead>\n",
       "    <tr style=\"text-align: right;\">\n",
       "      <th></th>\n",
       "      <th>Programming Language</th>\n",
       "      <th>Count</th>\n",
       "    </tr>\n",
       "  </thead>\n",
       "  <tbody>\n",
       "    <tr>\n",
       "      <th>0</th>\n",
       "      <td>missing</td>\n",
       "      <td>2293</td>\n",
       "    </tr>\n",
       "    <tr>\n",
       "      <th>1</th>\n",
       "      <td>JavaScript</td>\n",
       "      <td>46443</td>\n",
       "    </tr>\n",
       "    <tr>\n",
       "      <th>2</th>\n",
       "      <td>TypeScript</td>\n",
       "      <td>24752</td>\n",
       "    </tr>\n",
       "    <tr>\n",
       "      <th>3</th>\n",
       "      <td>C#</td>\n",
       "      <td>19883</td>\n",
       "    </tr>\n",
       "    <tr>\n",
       "      <th>4</th>\n",
       "      <td>C++</td>\n",
       "      <td>16024</td>\n",
       "    </tr>\n",
       "    <tr>\n",
       "      <th>5</th>\n",
       "      <td>HTML/CSS</td>\n",
       "      <td>39142</td>\n",
       "    </tr>\n",
       "    <tr>\n",
       "      <th>6</th>\n",
       "      <td>Python</td>\n",
       "      <td>34155</td>\n",
       "    </tr>\n",
       "    <tr>\n",
       "      <th>7</th>\n",
       "      <td>SQL</td>\n",
       "      <td>35127</td>\n",
       "    </tr>\n",
       "    <tr>\n",
       "      <th>8</th>\n",
       "      <td>Swift</td>\n",
       "      <td>3489</td>\n",
       "    </tr>\n",
       "    <tr>\n",
       "      <th>9</th>\n",
       "      <td>Lua</td>\n",
       "      <td>2867</td>\n",
       "    </tr>\n",
       "    <tr>\n",
       "      <th>10</th>\n",
       "      <td>PHP</td>\n",
       "      <td>14827</td>\n",
       "    </tr>\n",
       "    <tr>\n",
       "      <th>11</th>\n",
       "      <td>C</td>\n",
       "      <td>13692</td>\n",
       "    </tr>\n",
       "    <tr>\n",
       "      <th>12</th>\n",
       "      <td>Java</td>\n",
       "      <td>23644</td>\n",
       "    </tr>\n",
       "    <tr>\n",
       "      <th>13</th>\n",
       "      <td>Delphi</td>\n",
       "      <td>2311</td>\n",
       "    </tr>\n",
       "    <tr>\n",
       "      <th>14</th>\n",
       "      <td>Bash/Shell</td>\n",
       "      <td>20656</td>\n",
       "    </tr>\n",
       "    <tr>\n",
       "      <th>15</th>\n",
       "      <td>PowerShell</td>\n",
       "      <td>8575</td>\n",
       "    </tr>\n",
       "    <tr>\n",
       "      <th>16</th>\n",
       "      <td>Rust</td>\n",
       "      <td>6625</td>\n",
       "    </tr>\n",
       "    <tr>\n",
       "      <th>17</th>\n",
       "      <td>Elixir</td>\n",
       "      <td>1528</td>\n",
       "    </tr>\n",
       "    <tr>\n",
       "      <th>18</th>\n",
       "      <td>Erlang</td>\n",
       "      <td>641</td>\n",
       "    </tr>\n",
       "    <tr>\n",
       "      <th>19</th>\n",
       "      <td>Ruby</td>\n",
       "      <td>4299</td>\n",
       "    </tr>\n",
       "    <tr>\n",
       "      <th>20</th>\n",
       "      <td>R</td>\n",
       "      <td>3308</td>\n",
       "    </tr>\n",
       "    <tr>\n",
       "      <th>21</th>\n",
       "      <td>Scala</td>\n",
       "      <td>1837</td>\n",
       "    </tr>\n",
       "    <tr>\n",
       "      <th>22</th>\n",
       "      <td>VBA</td>\n",
       "      <td>3185</td>\n",
       "    </tr>\n",
       "    <tr>\n",
       "      <th>23</th>\n",
       "      <td>Dart</td>\n",
       "      <td>4648</td>\n",
       "    </tr>\n",
       "    <tr>\n",
       "      <th>24</th>\n",
       "      <td>Go</td>\n",
       "      <td>7922</td>\n",
       "    </tr>\n",
       "    <tr>\n",
       "      <th>25</th>\n",
       "      <td>Kotlin</td>\n",
       "      <td>6507</td>\n",
       "    </tr>\n",
       "    <tr>\n",
       "      <th>26</th>\n",
       "      <td>Groovy</td>\n",
       "      <td>2357</td>\n",
       "    </tr>\n",
       "    <tr>\n",
       "      <th>27</th>\n",
       "      <td>MATLAB</td>\n",
       "      <td>2913</td>\n",
       "    </tr>\n",
       "    <tr>\n",
       "      <th>28</th>\n",
       "      <td>Perl</td>\n",
       "      <td>1644</td>\n",
       "    </tr>\n",
       "    <tr>\n",
       "      <th>29</th>\n",
       "      <td>Haskell</td>\n",
       "      <td>1577</td>\n",
       "    </tr>\n",
       "    <tr>\n",
       "      <th>30</th>\n",
       "      <td>Julia</td>\n",
       "      <td>1084</td>\n",
       "    </tr>\n",
       "    <tr>\n",
       "      <th>31</th>\n",
       "      <td>LISP</td>\n",
       "      <td>932</td>\n",
       "    </tr>\n",
       "    <tr>\n",
       "      <th>32</th>\n",
       "      <td>Assembly</td>\n",
       "      <td>3887</td>\n",
       "    </tr>\n",
       "    <tr>\n",
       "      <th>33</th>\n",
       "      <td>F#</td>\n",
       "      <td>730</td>\n",
       "    </tr>\n",
       "    <tr>\n",
       "      <th>34</th>\n",
       "      <td>Clojure</td>\n",
       "      <td>1070</td>\n",
       "    </tr>\n",
       "    <tr>\n",
       "      <th>35</th>\n",
       "      <td>APL</td>\n",
       "      <td>504</td>\n",
       "    </tr>\n",
       "    <tr>\n",
       "      <th>36</th>\n",
       "      <td>Crystal</td>\n",
       "      <td>340</td>\n",
       "    </tr>\n",
       "    <tr>\n",
       "      <th>37</th>\n",
       "      <td>Fortran</td>\n",
       "      <td>646</td>\n",
       "    </tr>\n",
       "    <tr>\n",
       "      <th>38</th>\n",
       "      <td>Objective-C</td>\n",
       "      <td>1698</td>\n",
       "    </tr>\n",
       "    <tr>\n",
       "      <th>39</th>\n",
       "      <td>SAS</td>\n",
       "      <td>435</td>\n",
       "    </tr>\n",
       "    <tr>\n",
       "      <th>40</th>\n",
       "      <td>OCaml</td>\n",
       "      <td>422</td>\n",
       "    </tr>\n",
       "    <tr>\n",
       "      <th>41</th>\n",
       "      <td>Solidity</td>\n",
       "      <td>1031</td>\n",
       "    </tr>\n",
       "    <tr>\n",
       "      <th>42</th>\n",
       "      <td>COBOL</td>\n",
       "      <td>464</td>\n",
       "    </tr>\n",
       "  </tbody>\n",
       "</table>\n",
       "</div>"
      ],
      "text/plain": [
       "   Programming Language  Count\n",
       "0               missing   2293\n",
       "1            JavaScript  46443\n",
       "2            TypeScript  24752\n",
       "3                    C#  19883\n",
       "4                   C++  16024\n",
       "5              HTML/CSS  39142\n",
       "6                Python  34155\n",
       "7                   SQL  35127\n",
       "8                 Swift   3489\n",
       "9                   Lua   2867\n",
       "10                  PHP  14827\n",
       "11                    C  13692\n",
       "12                 Java  23644\n",
       "13               Delphi   2311\n",
       "14           Bash/Shell  20656\n",
       "15           PowerShell   8575\n",
       "16                 Rust   6625\n",
       "17               Elixir   1528\n",
       "18               Erlang    641\n",
       "19                 Ruby   4299\n",
       "20                    R   3308\n",
       "21                Scala   1837\n",
       "22                  VBA   3185\n",
       "23                 Dart   4648\n",
       "24                   Go   7922\n",
       "25               Kotlin   6507\n",
       "26               Groovy   2357\n",
       "27               MATLAB   2913\n",
       "28                 Perl   1644\n",
       "29              Haskell   1577\n",
       "30                Julia   1084\n",
       "31                 LISP    932\n",
       "32             Assembly   3887\n",
       "33                   F#    730\n",
       "34              Clojure   1070\n",
       "35                  APL    504\n",
       "36              Crystal    340\n",
       "37              Fortran    646\n",
       "38          Objective-C   1698\n",
       "39                  SAS    435\n",
       "40                OCaml    422\n",
       "41             Solidity   1031\n",
       "42                COBOL    464"
      ]
     },
     "execution_count": 35,
     "metadata": {},
     "output_type": "execute_result"
    }
   ],
   "source": [
    "langworkedwith_df"
   ]
  },
  {
   "cell_type": "code",
   "execution_count": 36,
   "id": "762db00b",
   "metadata": {},
   "outputs": [
    {
     "data": {
      "text/plain": [
       "<AxesSubplot:title={'center':'Programming Languages respondents have worked with'}, xlabel='Count', ylabel='Programming Language'>"
      ]
     },
     "execution_count": 36,
     "metadata": {},
     "output_type": "execute_result"
    },
    {
     "data": {
      "image/png": "[encoded data removed]",
      "text/plain": [
       "<Figure size 864x432 with 1 Axes>"
      ]
     },
     "metadata": {
      "needs_background": "light"
     },
     "output_type": "display_data"
    }
   ],
   "source": [
    "l = langworkedwith_df.head(20).sort_values('Count',ascending = False)\n",
    "l = l[l['Programming Language'] != 'missing']\n",
    "result = l.groupby('Programming Language')['Count'].mean().reset_index().sort_values('Count')\n",
    "\n",
    "plt.figure(figsize=(12,6))\n",
    "plt.title('Programming Languages respondents have worked with', size = 13)\n",
    "sns.barplot(y= 'Programming Language', x = 'Count', data = l, order = result['Programming Language'])"
   ]
  },
  {
   "cell_type": "markdown",
   "id": "001893f1",
   "metadata": {},
   "source": [
    "Javascript, HTML/CSS, SQL and Python are the top four languages, developers have worked with. \n"
   ]
  },
  {
   "cell_type": "code",
   "execution_count": null,
   "id": "698a9e44",
   "metadata": {},
   "outputs": [],
   "source": []
  },
  {
   "cell_type": "code",
   "execution_count": 42,
   "id": "6d25a25d",
   "metadata": {},
   "outputs": [
    {
     "name": "stderr",
     "output_type": "stream",
     "text": [
      "C:\\Users\\Jeff\\AppData\\Local\\Temp\\ipykernel_2844\\2655917494.py:1: SettingWithCopyWarning: \n",
      "A value is trying to be set on a copy of a slice from a DataFrame.\n",
      "Try using .loc[row_indexer,col_indexer] = value instead\n",
      "\n",
      "See the caveats in the documentation: https://pandas.pydata.org/pandas-docs/stable/user_guide/indexing.html#returning-a-view-versus-a-copy\n",
      "  q3['LanguageWantToWorkWith'] = q3['LanguageWantToWorkWith'].fillna('missing')\n"
     ]
    },
    {
     "data": {
      "text/plain": [
       "[{'Programming Language': 'missing', 'Count': 6241},\n",
       " {'Programming Language': 'Rust', 'Count': 17113},\n",
       " {'Programming Language': 'TypeScript', 'Count': 26050},\n",
       " {'Programming Language': 'C#', 'Count': 15681},\n",
       " {'Programming Language': 'C++', 'Count': 11896},\n",
       " {'Programming Language': 'HTML/CSS', 'Count': 25423},\n",
       " {'Programming Language': 'JavaScript', 'Count': 31551},\n",
       " {'Programming Language': 'SQL', 'Count': 24804},\n",
       " {'Programming Language': 'Elixir', 'Count': 3289},\n",
       " {'Programming Language': 'F#', 'Count': 1947},\n",
       " {'Programming Language': 'Go', 'Count': 15500},\n",
       " {'Programming Language': 'Lua', 'Count': 2390},\n",
       " {'Programming Language': 'C', 'Count': 7856},\n",
       " {'Programming Language': 'Java', 'Count': 13345},\n",
       " {'Programming Language': 'Kotlin', 'Count': 9316},\n",
       " {'Programming Language': 'Python', 'Count': 29350},\n",
       " {'Programming Language': 'Swift', 'Count': 5071},\n",
       " {'Programming Language': 'APL', 'Count': 608},\n",
       " {'Programming Language': 'Bash/Shell', 'Count': 13242},\n",
       " {'Programming Language': 'Delphi', 'Count': 1663},\n",
       " {'Programming Language': 'Haskell', 'Count': 2961},\n",
       " {'Programming Language': 'Erlang', 'Count': 1224},\n",
       " {'Programming Language': 'Ruby', 'Count': 3907},\n",
       " {'Programming Language': 'Scala', 'Count': 2451},\n",
       " {'Programming Language': 'PowerShell', 'Count': 4700},\n",
       " {'Programming Language': 'VBA', 'Count': 923},\n",
       " {'Programming Language': 'Julia', 'Count': 2221},\n",
       " {'Programming Language': 'PHP', 'Count': 7325},\n",
       " {'Programming Language': 'Dart', 'Count': 6083},\n",
       " {'Programming Language': 'Groovy', 'Count': 1037},\n",
       " {'Programming Language': 'Perl', 'Count': 934},\n",
       " {'Programming Language': 'LISP', 'Count': 1240},\n",
       " {'Programming Language': 'Clojure', 'Count': 1938},\n",
       " {'Programming Language': 'Assembly', 'Count': 3046},\n",
       " {'Programming Language': 'Solidity', 'Count': 2606},\n",
       " {'Programming Language': 'R', 'Count': 2934},\n",
       " {'Programming Language': 'Crystal', 'Count': 510},\n",
       " {'Programming Language': 'Objective-C', 'Count': 877},\n",
       " {'Programming Language': 'SAS', 'Count': 378},\n",
       " {'Programming Language': 'OCaml', 'Count': 739},\n",
       " {'Programming Language': 'MATLAB', 'Count': 1059},\n",
       " {'Programming Language': 'Fortran', 'Count': 439},\n",
       " {'Programming Language': 'COBOL', 'Count': 346}]"
      ]
     },
     "execution_count": 42,
     "metadata": {},
     "output_type": "execute_result"
    }
   ],
   "source": [
    "q3['LanguageWantToWorkWith'] = q3['LanguageWantToWorkWith'].fillna('missing')\n",
    "lang_to_list = split_col(q3, 'LanguageWantToWorkWith')\n",
    "flat_list = disarray(lang_to_list)\n",
    "dictlanguages = group_list(flat_list)\n",
    "dictlanguages"
   ]
  },
  {
   "cell_type": "code",
   "execution_count": 43,
   "id": "4dd556ad",
   "metadata": {},
   "outputs": [],
   "source": [
    "lang_future_df = createdf(dictlanguages)"
   ]
  },
  {
   "cell_type": "code",
   "execution_count": 44,
   "id": "d457ad40",
   "metadata": {},
   "outputs": [
    {
     "data": {
      "text/html": [
       "<div>\n",
       "<style scoped>\n",
       "    .dataframe tbody tr th:only-of-type {\n",
       "        vertical-align: middle;\n",
       "    }\n",
       "\n",
       "    .dataframe tbody tr th {\n",
       "        vertical-align: top;\n",
       "    }\n",
       "\n",
       "    .dataframe thead th {\n",
       "        text-align: right;\n",
       "    }\n",
       "</style>\n",
       "<table border=\"1\" class=\"dataframe\">\n",
       "  <thead>\n",
       "    <tr style=\"text-align: right;\">\n",
       "      <th></th>\n",
       "      <th>Programming Language</th>\n",
       "      <th>Count</th>\n",
       "    </tr>\n",
       "  </thead>\n",
       "  <tbody>\n",
       "    <tr>\n",
       "      <th>0</th>\n",
       "      <td>missing</td>\n",
       "      <td>6241</td>\n",
       "    </tr>\n",
       "    <tr>\n",
       "      <th>1</th>\n",
       "      <td>Rust</td>\n",
       "      <td>17113</td>\n",
       "    </tr>\n",
       "    <tr>\n",
       "      <th>2</th>\n",
       "      <td>TypeScript</td>\n",
       "      <td>26050</td>\n",
       "    </tr>\n",
       "    <tr>\n",
       "      <th>3</th>\n",
       "      <td>C#</td>\n",
       "      <td>15681</td>\n",
       "    </tr>\n",
       "    <tr>\n",
       "      <th>4</th>\n",
       "      <td>C++</td>\n",
       "      <td>11896</td>\n",
       "    </tr>\n",
       "    <tr>\n",
       "      <th>5</th>\n",
       "      <td>HTML/CSS</td>\n",
       "      <td>25423</td>\n",
       "    </tr>\n",
       "    <tr>\n",
       "      <th>6</th>\n",
       "      <td>JavaScript</td>\n",
       "      <td>31551</td>\n",
       "    </tr>\n",
       "    <tr>\n",
       "      <th>7</th>\n",
       "      <td>SQL</td>\n",
       "      <td>24804</td>\n",
       "    </tr>\n",
       "    <tr>\n",
       "      <th>8</th>\n",
       "      <td>Elixir</td>\n",
       "      <td>3289</td>\n",
       "    </tr>\n",
       "    <tr>\n",
       "      <th>9</th>\n",
       "      <td>F#</td>\n",
       "      <td>1947</td>\n",
       "    </tr>\n",
       "    <tr>\n",
       "      <th>10</th>\n",
       "      <td>Go</td>\n",
       "      <td>15500</td>\n",
       "    </tr>\n",
       "    <tr>\n",
       "      <th>11</th>\n",
       "      <td>Lua</td>\n",
       "      <td>2390</td>\n",
       "    </tr>\n",
       "    <tr>\n",
       "      <th>12</th>\n",
       "      <td>C</td>\n",
       "      <td>7856</td>\n",
       "    </tr>\n",
       "    <tr>\n",
       "      <th>13</th>\n",
       "      <td>Java</td>\n",
       "      <td>13345</td>\n",
       "    </tr>\n",
       "    <tr>\n",
       "      <th>14</th>\n",
       "      <td>Kotlin</td>\n",
       "      <td>9316</td>\n",
       "    </tr>\n",
       "    <tr>\n",
       "      <th>15</th>\n",
       "      <td>Python</td>\n",
       "      <td>29350</td>\n",
       "    </tr>\n",
       "    <tr>\n",
       "      <th>16</th>\n",
       "      <td>Swift</td>\n",
       "      <td>5071</td>\n",
       "    </tr>\n",
       "    <tr>\n",
       "      <th>17</th>\n",
       "      <td>APL</td>\n",
       "      <td>608</td>\n",
       "    </tr>\n",
       "    <tr>\n",
       "      <th>18</th>\n",
       "      <td>Bash/Shell</td>\n",
       "      <td>13242</td>\n",
       "    </tr>\n",
       "    <tr>\n",
       "      <th>19</th>\n",
       "      <td>Delphi</td>\n",
       "      <td>1663</td>\n",
       "    </tr>\n",
       "    <tr>\n",
       "      <th>20</th>\n",
       "      <td>Haskell</td>\n",
       "      <td>2961</td>\n",
       "    </tr>\n",
       "    <tr>\n",
       "      <th>21</th>\n",
       "      <td>Erlang</td>\n",
       "      <td>1224</td>\n",
       "    </tr>\n",
       "    <tr>\n",
       "      <th>22</th>\n",
       "      <td>Ruby</td>\n",
       "      <td>3907</td>\n",
       "    </tr>\n",
       "    <tr>\n",
       "      <th>23</th>\n",
       "      <td>Scala</td>\n",
       "      <td>2451</td>\n",
       "    </tr>\n",
       "    <tr>\n",
       "      <th>24</th>\n",
       "      <td>PowerShell</td>\n",
       "      <td>4700</td>\n",
       "    </tr>\n",
       "    <tr>\n",
       "      <th>25</th>\n",
       "      <td>VBA</td>\n",
       "      <td>923</td>\n",
       "    </tr>\n",
       "    <tr>\n",
       "      <th>26</th>\n",
       "      <td>Julia</td>\n",
       "      <td>2221</td>\n",
       "    </tr>\n",
       "    <tr>\n",
       "      <th>27</th>\n",
       "      <td>PHP</td>\n",
       "      <td>7325</td>\n",
       "    </tr>\n",
       "    <tr>\n",
       "      <th>28</th>\n",
       "      <td>Dart</td>\n",
       "      <td>6083</td>\n",
       "    </tr>\n",
       "    <tr>\n",
       "      <th>29</th>\n",
       "      <td>Groovy</td>\n",
       "      <td>1037</td>\n",
       "    </tr>\n",
       "    <tr>\n",
       "      <th>30</th>\n",
       "      <td>Perl</td>\n",
       "      <td>934</td>\n",
       "    </tr>\n",
       "    <tr>\n",
       "      <th>31</th>\n",
       "      <td>LISP</td>\n",
       "      <td>1240</td>\n",
       "    </tr>\n",
       "    <tr>\n",
       "      <th>32</th>\n",
       "      <td>Clojure</td>\n",
       "      <td>1938</td>\n",
       "    </tr>\n",
       "    <tr>\n",
       "      <th>33</th>\n",
       "      <td>Assembly</td>\n",
       "      <td>3046</td>\n",
       "    </tr>\n",
       "    <tr>\n",
       "      <th>34</th>\n",
       "      <td>Solidity</td>\n",
       "      <td>2606</td>\n",
       "    </tr>\n",
       "    <tr>\n",
       "      <th>35</th>\n",
       "      <td>R</td>\n",
       "      <td>2934</td>\n",
       "    </tr>\n",
       "    <tr>\n",
       "      <th>36</th>\n",
       "      <td>Crystal</td>\n",
       "      <td>510</td>\n",
       "    </tr>\n",
       "    <tr>\n",
       "      <th>37</th>\n",
       "      <td>Objective-C</td>\n",
       "      <td>877</td>\n",
       "    </tr>\n",
       "    <tr>\n",
       "      <th>38</th>\n",
       "      <td>SAS</td>\n",
       "      <td>378</td>\n",
       "    </tr>\n",
       "    <tr>\n",
       "      <th>39</th>\n",
       "      <td>OCaml</td>\n",
       "      <td>739</td>\n",
       "    </tr>\n",
       "    <tr>\n",
       "      <th>40</th>\n",
       "      <td>MATLAB</td>\n",
       "      <td>1059</td>\n",
       "    </tr>\n",
       "    <tr>\n",
       "      <th>41</th>\n",
       "      <td>Fortran</td>\n",
       "      <td>439</td>\n",
       "    </tr>\n",
       "    <tr>\n",
       "      <th>42</th>\n",
       "      <td>COBOL</td>\n",
       "      <td>346</td>\n",
       "    </tr>\n",
       "  </tbody>\n",
       "</table>\n",
       "</div>"
      ],
      "text/plain": [
       "   Programming Language  Count\n",
       "0               missing   6241\n",
       "1                  Rust  17113\n",
       "2            TypeScript  26050\n",
       "3                    C#  15681\n",
       "4                   C++  11896\n",
       "5              HTML/CSS  25423\n",
       "6            JavaScript  31551\n",
       "7                   SQL  24804\n",
       "8                Elixir   3289\n",
       "9                    F#   1947\n",
       "10                   Go  15500\n",
       "11                  Lua   2390\n",
       "12                    C   7856\n",
       "13                 Java  13345\n",
       "14               Kotlin   9316\n",
       "15               Python  29350\n",
       "16                Swift   5071\n",
       "17                  APL    608\n",
       "18           Bash/Shell  13242\n",
       "19               Delphi   1663\n",
       "20              Haskell   2961\n",
       "21               Erlang   1224\n",
       "22                 Ruby   3907\n",
       "23                Scala   2451\n",
       "24           PowerShell   4700\n",
       "25                  VBA    923\n",
       "26                Julia   2221\n",
       "27                  PHP   7325\n",
       "28                 Dart   6083\n",
       "29               Groovy   1037\n",
       "30                 Perl    934\n",
       "31                 LISP   1240\n",
       "32              Clojure   1938\n",
       "33             Assembly   3046\n",
       "34             Solidity   2606\n",
       "35                    R   2934\n",
       "36              Crystal    510\n",
       "37          Objective-C    877\n",
       "38                  SAS    378\n",
       "39                OCaml    739\n",
       "40               MATLAB   1059\n",
       "41              Fortran    439\n",
       "42                COBOL    346"
      ]
     },
     "execution_count": 44,
     "metadata": {},
     "output_type": "execute_result"
    }
   ],
   "source": [
    "lang_future_df"
   ]
  },
  {
   "cell_type": "code",
   "execution_count": 45,
   "id": "7bbff8ec",
   "metadata": {},
   "outputs": [
    {
     "data": {
      "text/plain": [
       "<AxesSubplot:title={'center':'Programming Languages respondents wants to work with'}, xlabel='Count', ylabel='Programming Language'>"
      ]
     },
     "execution_count": 45,
     "metadata": {},
     "output_type": "execute_result"
    },
    {
     "data": {
      "image/png": "[encoded data removed]",
      "text/plain": [
       "<Figure size 864x432 with 1 Axes>"
      ]
     },
     "metadata": {
      "needs_background": "light"
     },
     "output_type": "display_data"
    }
   ],
   "source": [
    "#languages developers will like to work with\n",
    "future_df = lang_future_df.head(20).sort_values('Count',ascending = False)\n",
    "future_df = future_df[future_df['Programming Language'] != 'missing']\n",
    "future_result = future_df.groupby('Programming Language')['Count'].mean().reset_index().sort_values('Count')\n",
    "\n",
    "plt.figure(figsize=(12,6))\n",
    "plt.title('Programming Languages respondents wants to work with', size = 13)\n",
    "sns.barplot(y= 'Programming Language', x = 'Count', data = future_df, order = future_result['Programming Language'])\n",
    "\n"
   ]
  },
  {
   "cell_type": "markdown",
   "id": "06936d64",
   "metadata": {},
   "source": [
    "Javascript still retains it position, as a popular language. Most developers wants to work with in the future. Also, it is noteworthy that developers wants to work wit python, as it closely follows Javascript. \n",
    "Typescript is also a language developers should pay attention to."
   ]
  },
  {
   "cell_type": "code",
   "execution_count": 46,
   "id": "4ec7b649",
   "metadata": {},
   "outputs": [
    {
     "name": "stderr",
     "output_type": "stream",
     "text": [
      "C:\\Users\\Jeff\\AppData\\Local\\Temp\\ipykernel_2844\\2614117395.py:2: SettingWithCopyWarning: \n",
      "A value is trying to be set on a copy of a slice from a DataFrame.\n",
      "Try using .loc[row_indexer,col_indexer] = value instead\n",
      "\n",
      "See the caveats in the documentation: https://pandas.pydata.org/pandas-docs/stable/user_guide/indexing.html#returning-a-view-versus-a-copy\n",
      "  q3['DatabaseHaveWorkedWith'] = q3['DatabaseHaveWorkedWith'].fillna('missing')\n"
     ]
    }
   ],
   "source": [
    "#database management systems developers have worked with\n",
    "q3['DatabaseHaveWorkedWith'] = q3['DatabaseHaveWorkedWith'].fillna('missing')\n"
   ]
  },
  {
   "cell_type": "code",
   "execution_count": 47,
   "id": "a33f8635",
   "metadata": {},
   "outputs": [],
   "source": [
    "def group_database(data_list):\n",
    "    ''' Group by count to a list,\n",
    "        returns a result dict.\n",
    "    '''\n",
    "    \n",
    "    grouped_list = dict(Counter(data_list))\n",
    "    grouped_dict = [{'Database':key, 'Count': value} for key, value in grouped_list.items()]\n",
    "    \n",
    "    return grouped_dict\n"
   ]
  },
  {
   "cell_type": "code",
   "execution_count": 48,
   "id": "48d46d7a",
   "metadata": {},
   "outputs": [
    {
     "data": {
      "text/plain": [
       "[{'Database': 'missing', 'Count': 13147},\n",
       " {'Database': 'Microsoft SQL Server', 'Count': 16355},\n",
       " {'Database': 'Cloud Firestore', 'Count': 4535},\n",
       " {'Database': 'Elasticsearch', 'Count': 7430},\n",
       " {'Database': 'Firebase Realtime Database', 'Count': 5309},\n",
       " {'Database': 'MongoDB', 'Count': 17228},\n",
       " {'Database': 'MySQL', 'Count': 28520},\n",
       " {'Database': 'Couchbase', 'Count': 807},\n",
       " {'Database': 'CouchDB', 'Count': 783},\n",
       " {'Database': 'PostgreSQL', 'Count': 26538},\n",
       " {'Database': 'Redis', 'Count': 13471},\n",
       " {'Database': 'DynamoDB', 'Count': 5029},\n",
       " {'Database': 'Neo4j', 'Count': 1291},\n",
       " {'Database': 'SQLite', 'Count': 19487},\n",
       " {'Database': 'Cassandra', 'Count': 1617},\n",
       " {'Database': 'MariaDB', 'Count': 10912},\n",
       " {'Database': 'Oracle', 'Count': 6994},\n",
       " {'Database': 'IBM DB2', 'Count': 1219}]"
      ]
     },
     "execution_count": 48,
     "metadata": {},
     "output_type": "execute_result"
    }
   ],
   "source": [
    "database_to_list = split_col(q3, 'DatabaseHaveWorkedWith')\n",
    "database_flat_list = disarray(database_to_list)\n",
    "dict_database = group_database(database_flat_list)\n",
    "dict_database"
   ]
  },
  {
   "cell_type": "code",
   "execution_count": 49,
   "id": "6dccb321",
   "metadata": {},
   "outputs": [
    {
     "data": {
      "text/html": [
       "<div>\n",
       "<style scoped>\n",
       "    .dataframe tbody tr th:only-of-type {\n",
       "        vertical-align: middle;\n",
       "    }\n",
       "\n",
       "    .dataframe tbody tr th {\n",
       "        vertical-align: top;\n",
       "    }\n",
       "\n",
       "    .dataframe thead th {\n",
       "        text-align: right;\n",
       "    }\n",
       "</style>\n",
       "<table border=\"1\" class=\"dataframe\">\n",
       "  <thead>\n",
       "    <tr style=\"text-align: right;\">\n",
       "      <th></th>\n",
       "      <th>Database</th>\n",
       "      <th>Count</th>\n",
       "    </tr>\n",
       "  </thead>\n",
       "  <tbody>\n",
       "    <tr>\n",
       "      <th>0</th>\n",
       "      <td>missing</td>\n",
       "      <td>13147</td>\n",
       "    </tr>\n",
       "    <tr>\n",
       "      <th>1</th>\n",
       "      <td>Microsoft SQL Server</td>\n",
       "      <td>16355</td>\n",
       "    </tr>\n",
       "    <tr>\n",
       "      <th>2</th>\n",
       "      <td>Cloud Firestore</td>\n",
       "      <td>4535</td>\n",
       "    </tr>\n",
       "    <tr>\n",
       "      <th>3</th>\n",
       "      <td>Elasticsearch</td>\n",
       "      <td>7430</td>\n",
       "    </tr>\n",
       "    <tr>\n",
       "      <th>4</th>\n",
       "      <td>Firebase Realtime Database</td>\n",
       "      <td>5309</td>\n",
       "    </tr>\n",
       "    <tr>\n",
       "      <th>5</th>\n",
       "      <td>MongoDB</td>\n",
       "      <td>17228</td>\n",
       "    </tr>\n",
       "    <tr>\n",
       "      <th>6</th>\n",
       "      <td>MySQL</td>\n",
       "      <td>28520</td>\n",
       "    </tr>\n",
       "    <tr>\n",
       "      <th>7</th>\n",
       "      <td>Couchbase</td>\n",
       "      <td>807</td>\n",
       "    </tr>\n",
       "    <tr>\n",
       "      <th>8</th>\n",
       "      <td>CouchDB</td>\n",
       "      <td>783</td>\n",
       "    </tr>\n",
       "    <tr>\n",
       "      <th>9</th>\n",
       "      <td>PostgreSQL</td>\n",
       "      <td>26538</td>\n",
       "    </tr>\n",
       "    <tr>\n",
       "      <th>10</th>\n",
       "      <td>Redis</td>\n",
       "      <td>13471</td>\n",
       "    </tr>\n",
       "    <tr>\n",
       "      <th>11</th>\n",
       "      <td>DynamoDB</td>\n",
       "      <td>5029</td>\n",
       "    </tr>\n",
       "    <tr>\n",
       "      <th>12</th>\n",
       "      <td>Neo4j</td>\n",
       "      <td>1291</td>\n",
       "    </tr>\n",
       "    <tr>\n",
       "      <th>13</th>\n",
       "      <td>SQLite</td>\n",
       "      <td>19487</td>\n",
       "    </tr>\n",
       "    <tr>\n",
       "      <th>14</th>\n",
       "      <td>Cassandra</td>\n",
       "      <td>1617</td>\n",
       "    </tr>\n",
       "    <tr>\n",
       "      <th>15</th>\n",
       "      <td>MariaDB</td>\n",
       "      <td>10912</td>\n",
       "    </tr>\n",
       "    <tr>\n",
       "      <th>16</th>\n",
       "      <td>Oracle</td>\n",
       "      <td>6994</td>\n",
       "    </tr>\n",
       "    <tr>\n",
       "      <th>17</th>\n",
       "      <td>IBM DB2</td>\n",
       "      <td>1219</td>\n",
       "    </tr>\n",
       "  </tbody>\n",
       "</table>\n",
       "</div>"
      ],
      "text/plain": [
       "                      Database  Count\n",
       "0                      missing  13147\n",
       "1         Microsoft SQL Server  16355\n",
       "2              Cloud Firestore   4535\n",
       "3                Elasticsearch   7430\n",
       "4   Firebase Realtime Database   5309\n",
       "5                      MongoDB  17228\n",
       "6                        MySQL  28520\n",
       "7                    Couchbase    807\n",
       "8                      CouchDB    783\n",
       "9                   PostgreSQL  26538\n",
       "10                       Redis  13471\n",
       "11                    DynamoDB   5029\n",
       "12                       Neo4j   1291\n",
       "13                      SQLite  19487\n",
       "14                   Cassandra   1617\n",
       "15                     MariaDB  10912\n",
       "16                      Oracle   6994\n",
       "17                     IBM DB2   1219"
      ]
     },
     "execution_count": 49,
     "metadata": {},
     "output_type": "execute_result"
    }
   ],
   "source": [
    "database_df = createdf(dict_database)\n",
    "database_df"
   ]
  },
  {
   "cell_type": "code",
   "execution_count": 50,
   "id": "62839455",
   "metadata": {},
   "outputs": [
    {
     "data": {
      "text/plain": [
       "<AxesSubplot:title={'center':'Top 20 Database respondents work with'}, xlabel='Count', ylabel='Database'>"
      ]
     },
     "execution_count": 50,
     "metadata": {},
     "output_type": "execute_result"
    },
    {
     "data": {
      "image/png": "[encoded data removed]",
      "text/plain": [
       "<Figure size 864x432 with 1 Axes>"
      ]
     },
     "metadata": {
      "needs_background": "light"
     },
     "output_type": "display_data"
    }
   ],
   "source": [
    "db_df = database_df.head(20).sort_values('Count',ascending = False)\n",
    "db_df = db_df[db_df['Database'] != 'missing']\n",
    "db_result = db_df.groupby('Database')['Count'].mean().reset_index().sort_values('Count')\n",
    "\n",
    "plt.figure(figsize=(12,6))\n",
    "plt.title('Top 20 Database respondents work with', size = 13)\n",
    "sns.barplot(y= 'Database', x = 'Count', data = db_df, order = db_result['Database'])\n",
    "\n"
   ]
  },
  {
   "cell_type": "markdown",
   "id": "5674daa7",
   "metadata": {},
   "source": [
    "MySQL, PostgreSQL and SQLite are the most popular database management systems developers have worked with"
   ]
  },
  {
   "cell_type": "code",
   "execution_count": 51,
   "id": "06961e0d",
   "metadata": {},
   "outputs": [
    {
     "name": "stderr",
     "output_type": "stream",
     "text": [
      "C:\\Users\\Jeff\\AppData\\Local\\Temp\\ipykernel_2844\\1229199405.py:1: SettingWithCopyWarning: \n",
      "A value is trying to be set on a copy of a slice from a DataFrame.\n",
      "Try using .loc[row_indexer,col_indexer] = value instead\n",
      "\n",
      "See the caveats in the documentation: https://pandas.pydata.org/pandas-docs/stable/user_guide/indexing.html#returning-a-view-versus-a-copy\n",
      "  q3['DatabaseWantToWorkWith'] = q3['DatabaseWantToWorkWith'].fillna('missing')\n"
     ]
    }
   ],
   "source": [
    "q3['DatabaseWantToWorkWith'] = q3['DatabaseWantToWorkWith'].fillna('missing')\n"
   ]
  },
  {
   "cell_type": "code",
   "execution_count": 52,
   "id": "bfec0e37",
   "metadata": {},
   "outputs": [
    {
     "data": {
      "text/plain": [
       "[{'Database': 'missing', 'Count': 22254},\n",
       " {'Database': 'Microsoft SQL Server', 'Count': 9867},\n",
       " {'Database': 'Cloud Firestore', 'Count': 3873},\n",
       " {'Database': 'Elasticsearch', 'Count': 8533},\n",
       " {'Database': 'Firebase Realtime Database', 'Count': 5312},\n",
       " {'Database': 'Redis', 'Count': 16211},\n",
       " {'Database': 'MySQL', 'Count': 16271},\n",
       " {'Database': 'Oracle', 'Count': 3511},\n",
       " {'Database': 'PostgreSQL', 'Count': 25212},\n",
       " {'Database': 'Neo4j', 'Count': 2354},\n",
       " {'Database': 'MongoDB', 'Count': 17297},\n",
       " {'Database': 'SQLite', 'Count': 14085},\n",
       " {'Database': 'MariaDB', 'Count': 7181},\n",
       " {'Database': 'Cassandra', 'Count': 3178},\n",
       " {'Database': 'CouchDB', 'Count': 1154},\n",
       " {'Database': 'DynamoDB', 'Count': 5309},\n",
       " {'Database': 'IBM DB2', 'Count': 519},\n",
       " {'Database': 'Couchbase', 'Count': 955}]"
      ]
     },
     "execution_count": 52,
     "metadata": {},
     "output_type": "execute_result"
    }
   ],
   "source": [
    "futuredb_to_list = split_col(q3, 'DatabaseWantToWorkWith')\n",
    "futuredb_flat_list = disarray(futuredb_to_list)\n",
    "future_dict_db = group_database(futuredb_flat_list)\n",
    "future_dict_db"
   ]
  },
  {
   "cell_type": "code",
   "execution_count": 53,
   "id": "8001e609",
   "metadata": {},
   "outputs": [
    {
     "data": {
      "text/html": [
       "<div>\n",
       "<style scoped>\n",
       "    .dataframe tbody tr th:only-of-type {\n",
       "        vertical-align: middle;\n",
       "    }\n",
       "\n",
       "    .dataframe tbody tr th {\n",
       "        vertical-align: top;\n",
       "    }\n",
       "\n",
       "    .dataframe thead th {\n",
       "        text-align: right;\n",
       "    }\n",
       "</style>\n",
       "<table border=\"1\" class=\"dataframe\">\n",
       "  <thead>\n",
       "    <tr style=\"text-align: right;\">\n",
       "      <th></th>\n",
       "      <th>Database</th>\n",
       "      <th>Count</th>\n",
       "    </tr>\n",
       "  </thead>\n",
       "  <tbody>\n",
       "    <tr>\n",
       "      <th>0</th>\n",
       "      <td>missing</td>\n",
       "      <td>22254</td>\n",
       "    </tr>\n",
       "    <tr>\n",
       "      <th>1</th>\n",
       "      <td>Microsoft SQL Server</td>\n",
       "      <td>9867</td>\n",
       "    </tr>\n",
       "    <tr>\n",
       "      <th>2</th>\n",
       "      <td>Cloud Firestore</td>\n",
       "      <td>3873</td>\n",
       "    </tr>\n",
       "    <tr>\n",
       "      <th>3</th>\n",
       "      <td>Elasticsearch</td>\n",
       "      <td>8533</td>\n",
       "    </tr>\n",
       "    <tr>\n",
       "      <th>4</th>\n",
       "      <td>Firebase Realtime Database</td>\n",
       "      <td>5312</td>\n",
       "    </tr>\n",
       "    <tr>\n",
       "      <th>5</th>\n",
       "      <td>Redis</td>\n",
       "      <td>16211</td>\n",
       "    </tr>\n",
       "    <tr>\n",
       "      <th>6</th>\n",
       "      <td>MySQL</td>\n",
       "      <td>16271</td>\n",
       "    </tr>\n",
       "    <tr>\n",
       "      <th>7</th>\n",
       "      <td>Oracle</td>\n",
       "      <td>3511</td>\n",
       "    </tr>\n",
       "    <tr>\n",
       "      <th>8</th>\n",
       "      <td>PostgreSQL</td>\n",
       "      <td>25212</td>\n",
       "    </tr>\n",
       "    <tr>\n",
       "      <th>9</th>\n",
       "      <td>Neo4j</td>\n",
       "      <td>2354</td>\n",
       "    </tr>\n",
       "    <tr>\n",
       "      <th>10</th>\n",
       "      <td>MongoDB</td>\n",
       "      <td>17297</td>\n",
       "    </tr>\n",
       "    <tr>\n",
       "      <th>11</th>\n",
       "      <td>SQLite</td>\n",
       "      <td>14085</td>\n",
       "    </tr>\n",
       "    <tr>\n",
       "      <th>12</th>\n",
       "      <td>MariaDB</td>\n",
       "      <td>7181</td>\n",
       "    </tr>\n",
       "    <tr>\n",
       "      <th>13</th>\n",
       "      <td>Cassandra</td>\n",
       "      <td>3178</td>\n",
       "    </tr>\n",
       "    <tr>\n",
       "      <th>14</th>\n",
       "      <td>CouchDB</td>\n",
       "      <td>1154</td>\n",
       "    </tr>\n",
       "    <tr>\n",
       "      <th>15</th>\n",
       "      <td>DynamoDB</td>\n",
       "      <td>5309</td>\n",
       "    </tr>\n",
       "    <tr>\n",
       "      <th>16</th>\n",
       "      <td>IBM DB2</td>\n",
       "      <td>519</td>\n",
       "    </tr>\n",
       "    <tr>\n",
       "      <th>17</th>\n",
       "      <td>Couchbase</td>\n",
       "      <td>955</td>\n",
       "    </tr>\n",
       "  </tbody>\n",
       "</table>\n",
       "</div>"
      ],
      "text/plain": [
       "                      Database  Count\n",
       "0                      missing  22254\n",
       "1         Microsoft SQL Server   9867\n",
       "2              Cloud Firestore   3873\n",
       "3                Elasticsearch   8533\n",
       "4   Firebase Realtime Database   5312\n",
       "5                        Redis  16211\n",
       "6                        MySQL  16271\n",
       "7                       Oracle   3511\n",
       "8                   PostgreSQL  25212\n",
       "9                        Neo4j   2354\n",
       "10                     MongoDB  17297\n",
       "11                      SQLite  14085\n",
       "12                     MariaDB   7181\n",
       "13                   Cassandra   3178\n",
       "14                     CouchDB   1154\n",
       "15                    DynamoDB   5309\n",
       "16                     IBM DB2    519\n",
       "17                   Couchbase    955"
      ]
     },
     "execution_count": 53,
     "metadata": {},
     "output_type": "execute_result"
    }
   ],
   "source": [
    "future_db_df = createdf(future_dict_db)\n",
    "future_db_df"
   ]
  },
  {
   "cell_type": "code",
   "execution_count": 54,
   "id": "a82345f6",
   "metadata": {},
   "outputs": [
    {
     "data": {
      "text/plain": [
       "<AxesSubplot:title={'center':'Top 20 Database respondents want to work with'}, xlabel='Count', ylabel='Database'>"
      ]
     },
     "execution_count": 54,
     "metadata": {},
     "output_type": "execute_result"
    },
    {
     "data": {
      "image/png": "[encoded data removed]",
      "text/plain": [
       "<Figure size 864x432 with 1 Axes>"
      ]
     },
     "metadata": {
      "needs_background": "light"
     },
     "output_type": "display_data"
    }
   ],
   "source": [
    "df_db = future_db_df.head(20).sort_values('Count',ascending = False)\n",
    "df_db = df_db[df_db['Database'] != 'missing']\n",
    "df_db_result = df_db.groupby('Database')['Count'].mean().reset_index().sort_values('Count')\n",
    "\n",
    "plt.figure(figsize=(12,6))\n",
    "plt.title('Top 20 Database respondents want to work with', size = 13)\n",
    "sns.barplot(y= 'Database', x = 'Count', data = df_db, order = df_db_result['Database'])\n",
    "\n"
   ]
  },
  {
   "cell_type": "markdown",
   "id": "2c717063",
   "metadata": {},
   "source": [
    "PostgreSQL and MongoDB leads MySQL in the list of databases developers would love to work with in future. From this result, it seems MongoDB is catching lots of developers interest. "
   ]
  },
  {
   "cell_type": "markdown",
   "id": "2f83509c",
   "metadata": {},
   "source": [
    "## Conclusion\n",
    "The StackOverflow is a very rich dataset with various columns that gives insights into developer's characteristics, attitutdes, interests and demography. So many insightful studies can be inferred from the dataset. This analysis has been able to give other developers insights into tech stacks (languages and database management systems) developers have worked with and what they intend to work with in future."
   ]
  }
 ],
 "metadata": {
  "kernelspec": {
   "display_name": "Python 3 (ipykernel)",
   "language": "python",
   "name": "python3"
  },
  "language_info": {
   "codemirror_mode": {
    "name": "ipython",
    "version": 3
   },
   "file_extension": ".py",
   "mimetype": "text/x-python",
   "name": "python",
   "nbconvert_exporter": "python",
   "pygments_lexer": "ipython3",
   "version": "3.9.12"
  }
 },
 "nbformat": 4,
 "nbformat_minor": 5
}
